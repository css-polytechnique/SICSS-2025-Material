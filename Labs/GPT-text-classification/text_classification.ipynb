{
 "cells": [
  {
   "cell_type": "markdown",
   "metadata": {
    "id": "yBB8uSgCWsQq"
   },
   "source": [
    "Colab notebook written by Emma Bonutti D'Agostini and Emilien Schultz, June 2025."
   ]
  },
  {
   "cell_type": "markdown",
   "metadata": {
    "id": "wDSpAGmWKnmX"
   },
   "source": [
    "## Set-up\n",
    "\n",
    "If you want to run this code on Colab, you need to download this notebook and paste it to a folder in your personal Google Drive account.\n",
    "\n",
    "**We nonetheless recommend that you can use any other code editor on your personal computer, such as VSCode**"
   ]
  },
  {
   "cell_type": "markdown",
   "metadata": {
    "id": "KCqxGMrmG7go"
   },
   "source": [
    "### Packages\n",
    "First, let's install and import packages needed for the application."
   ]
  },
  {
   "cell_type": "code",
   "execution_count": null,
   "metadata": {
    "colab": {
     "base_uri": "https://localhost:8080/"
    },
    "executionInfo": {
     "elapsed": 19922,
     "status": "ok",
     "timestamp": 1751295267906,
     "user": {
      "displayName": "Etienne Ollion",
      "userId": "10079890748388171032"
     },
     "user_tz": -120
    },
    "id": "_rJQFL5zsGvY",
    "outputId": "36926de2-7d71-45b1-8b99-fd9ec88a6313"
   },
   "outputs": [],
   "source": [
    "!pip install -q tqdm pandas==2.2.2 scikit-learn==1.6.0 openapi openai transformers"
   ]
  },
  {
   "cell_type": "code",
   "execution_count": null,
   "metadata": {
    "id": "5k2-WEp3MCoT"
   },
   "outputs": [],
   "source": [
    "import pandas as pd\n",
    "import json\n",
    "import yaml"
   ]
  },
  {
   "cell_type": "markdown",
   "metadata": {
    "id": "OSMoeGbcEQr9"
   },
   "source": [
    "### Open Router API requests\n",
    "\n",
    "\n",
    "\n"
   ]
  },
  {
   "cell_type": "markdown",
   "metadata": {
    "id": "RjGdpr3-xUwJ"
   },
   "source": [
    "**What is Open Router?**\n",
    "> OpenRouter is a unified API that allows developers to access and use a wide range of powerful language models—such as OpenAI's GPT, Claude, Mistral, and others—without having to host them locally.\n",
    ">\n",
    "> Instead of installing and running large models on your own hardware, OpenRouter provides a simple interface to purchase and perform inference via third-party providers.\n",
    "\n",
    "**How does it work?**\n",
    "> OpenRouter acts as an intermediary that routes your model requests (inference) to a variety of model providers, depending on your selection. You simply send API requests through a single endpoint, and OpenRouter handles:\n",
    ">- Model selection (unless you specify)\n",
    ">- Authentication\n",
    ">- Billing\n",
    ">- Request routing\n",
    "\n",
    "**Why Use OpenRouter Instead of Running Models Locally?**\n",
    "> Running generative large-scale models (Llama, Claude 3, etc.) locally is challenging due to: hardware limitations (GPUs), storage requirements (memory), setup complexity.\n",
    ">\n",
    "> Using OpenRouter offers several key advantages:\n",
    ">\n",
    ">- No need for expensive local GPUs or cloud infrastructure.\n",
    ">- Immediate access to multiple top-tier models.\n",
    ">- Easy integration with just a few lines of code.\n",
    ">- Pay-as-you-go pricing based on usage.\n",
    "\n",
    "\n",
    "To use it with Python, we can use the OpenAPI wrapper + a key with credit:\n",
    "https://openrouter.ai/docs/quickstart\n",
    "\n",
    "The key to use Open Router is shared with a `.txt` file. Prepare the config file that is shared on the drive, together with this notebook.\n",
    "\n",
    "**But be careful:**\n",
    "The privacy of your data is not ensured as your are transmitting their content to third-parties. Be certain that your data is not sensitive or copyrighted."
   ]
  },
  {
   "cell_type": "markdown",
   "metadata": {
    "id": "rFDISEEtrgHQ"
   },
   "source": [
    "# Text classification with GPT models\n",
    "\n",
    "**Text classification** with GPT-like models means assigning a category to a piece of text **without the model being explicitly trained** on labeled examples for that task. Instead, the model uses its general language understanding to infer the correct label from the prompt.\n",
    "\n",
    "There are two possible nuances of this methodology:\n",
    "- zero-shot text classification (just asking the model to classify text)\n",
    "- few-shot text classification (also adding one/a few examples)"
   ]
  },
  {
   "cell_type": "code",
   "execution_count": null,
   "metadata": {
    "colab": {
     "base_uri": "https://localhost:8080/"
    },
    "executionInfo": {
     "elapsed": 17586,
     "status": "ok",
     "timestamp": 1751295294388,
     "user": {
      "displayName": "Etienne Ollion",
      "userId": "10079890748388171032"
     },
     "user_tz": -120
    },
    "id": "cZB2nwhGulof",
    "outputId": "9a50a37f-d8c6-4880-8047-d81d123bb0cd"
   },
   "outputs": [],
   "source": [
    "# If you are working with Colab, connect this notebook to your personal Google Drive account.\n",
    "\n",
    "# ***ATTENTION*** Do not pass any proprietary/private information\n",
    "# ***ATTENTION*** Prefer a local solution if you can (for instance: jupyther notebooks)\n",
    "\n",
    "# This allows you to access, through this notebook, data files etc. stored on your drive\n",
    "# As well as to create new files to save the output of the data processing pipeline\n",
    "\n",
    "# A window will open, and you'll have to give your consent to make the connection\n",
    "# You will also be asked to choose to which Google Drive account you want to connect, in case you have several\n",
    "\n",
    "# If the process succeeds, this cell will print the message \"Mounted at /content/drive\"\n",
    "\n",
    "from google.colab import drive\n",
    "drive.mount('/content/drive')"
   ]
  },
  {
   "cell_type": "code",
   "execution_count": null,
   "metadata": {
    "id": "87OPE8i7WySQ"
   },
   "outputs": [],
   "source": [
    "# Establish filepath\n",
    "# Locate in the same folder this notebook, the data sample you want to use and any other useful file\n",
    "# If you use a google drive path, it should start with /content/drive/My Drive/\n",
    "my_path = '/YOUR/FILE/PATH/'"
   ]
  },
  {
   "cell_type": "code",
   "execution_count": null,
   "metadata": {
    "id": "ZC8T3c5HKXWt"
   },
   "outputs": [],
   "source": [
    "# Get an OpenRouter key and paste it here\n",
    "token_or = \"INSERT_YOUR_KEY_HERE\""
   ]
  },
  {
   "cell_type": "code",
   "execution_count": null,
   "metadata": {
    "id": "x1YOVaf3kAU2"
   },
   "outputs": [],
   "source": [
    "# Connect with the OpenRouter API\n",
    "from openai import OpenAI\n",
    "client = OpenAI(\n",
    "  base_url=\"https://openrouter.ai/api/v1\",\n",
    "  api_key=token_or,\n",
    ")"
   ]
  },
  {
   "cell_type": "code",
   "execution_count": null,
   "metadata": {
    "colab": {
     "base_uri": "https://localhost:8080/"
    },
    "executionInfo": {
     "elapsed": 4545,
     "status": "ok",
     "timestamp": 1750922942890,
     "user": {
      "displayName": "Emma BONUTTI",
      "userId": "08899363871187701144"
     },
     "user_tz": -120
    },
    "id": "G57QVNnLkK90",
    "outputId": "c460d223-4ad7-4875-f0b7-97460451d2d7"
   },
   "outputs": [],
   "source": [
    "  # Test making a request\n",
    "  completion = client.chat.completions.create(\n",
    "    model=\"openai/gpt-4o\",\n",
    "    messages=[\n",
    "      {\n",
    "        \"role\": \"user\",\n",
    "        \"content\": \"What is SICSS, but could you explain it in a funny way ?\"\n",
    "      }\n",
    "    ]\n",
    "  )\n",
    "  completion"
   ]
  },
  {
   "cell_type": "markdown",
   "metadata": {
    "id": "5Po7K141UKC1"
   },
   "source": [
    "Have a look to the response of the request."
   ]
  },
  {
   "cell_type": "markdown",
   "metadata": {
    "id": "iAXQy0cAxXFn"
   },
   "source": [
    "### Choose the right model for your task"
   ]
  },
  {
   "cell_type": "markdown",
   "metadata": {
    "id": "FUjRuxMiGYBQ"
   },
   "source": [
    "OpenRouter gives you access to a wide variety of language models through a single API interface. Choosing the right one depends on your specific needs, including performance, cost, and task complexity.\n",
    "\n",
    "Browse available models here:\n",
    "👉 https://openrouter.ai/models\n",
    "\n",
    "Each model includes:\n",
    "- A description of its capabilities\n",
    "- The provider (e.g., Meta, OpenAI, Anthropic)\n",
    "- Cost per token\n",
    "- Performance notes (e.g., reasoning, coding, summarization)\n",
    "\n",
    "**How to choose?** Depending of your needs, the price, the specifity of the task (text classification, summarization, conversation, etc.).\n",
    "\n",
    "> Have a look to the [Open LLM leaderboard](https://huggingface.co/spaces/open-llm-leaderboard/open_llm_leaderboard#/), which evaluates models on reasoning, language understanding, math, and other benchmarks.\n",
    "\n",
    "Unlike tools such as **Ollama**, which often run **quantized** (compressed) versions of models locally to fit limited hardware, **OpenRouter gives you access to full-size, high-performance models running on dedicated inference servers**. This means better performances and SOTA architectures, without impacting on local computing resources.\n",
    "\n",
    "\n",
    "For this text classification exercise we can try 2 models :\n",
    "- **LLama 3.3 70B**: open-access, SOTA performances\n",
    "- **OpenAI**: GPT-4o-mini\n",
    "\n"
   ]
  },
  {
   "cell_type": "markdown",
   "metadata": {
    "id": "2g72G3cUlBuS"
   },
   "source": [
    "Be careful: some model are expensive!\n",
    "\n",
    "> **Evaluate the cost (money and time)** of the request (even if it's becoming more and more cheap, it's useful to have an estimation)\n",
    "\n",
    "- For a model, find the price per token and compute the number of tokens in your request/answer\n",
    "- Estimate the time on a small data sample\n",
    "\n",
    "For every specific model, to estimate the number of tokens in the request/answer, we need a dedicated tokenizer: we can get one from huggingface."
   ]
  },
  {
   "cell_type": "code",
   "execution_count": null,
   "metadata": {
    "colab": {
     "base_uri": "https://localhost:8080/",
     "height": 252,
     "referenced_widgets": [
      "9982e19145cf4b61973d475cedd35028",
      "5e0ef6d4f1894159ac1ec5e93a9e8b59",
      "b08e87301e0245ba89e0c54913cdba16",
      "1a4c74843b9b47c69519e93b794f7339",
      "9d2762d1a2e04852a5e518608a59eeb4",
      "322f311e312440e6a412d8338a90d352",
      "386599f79f0f4e0297ab8141fa8e97df",
      "1edfef73272a41d8814ea517499fb0f4",
      "4462758468034fd6815a09898409f520",
      "02a22c294edc4322895f56ad8d109b44",
      "c6e05e5fb9d24b428af0952fd39416b3",
      "fd5fe08236db4f91b79a8fd7608c7822",
      "a2bc22e6fa0c43a582c0b1beca43ea2f",
      "78d1c2566a0b496abe52f55b3ec2fbc1",
      "b0bef97992ef484a80114e425963ee2e",
      "2f0435e46b3347d59e59efc34e8f9ab6",
      "2d5d0c524f8a46388b120c44eacca6f5",
      "8e8e521e57874af68c90bb3f8b817d39",
      "9032ae346abe4614af4a8023ec9c95e9",
      "b3663578031741db8391427391ce0664",
      "f15d335bd87f4bc6a57d9f85440cc675",
      "da11bc21f47e4196b4f5e202c99963d2",
      "0743051227894007b77feac808e5114c",
      "cf255ea6367546999cdecbeb5430bd63",
      "4cb16753211f4fcea386327bd16c79a8",
      "a6a558eea8f648d1bb3e1fc3b54a23e8",
      "24a8899047354f9fb29548cc45f43adb",
      "cfbc06e8dc364ab4958dfa5f8eed647b",
      "a7cec4a0fe9b490c83deb0fa4c9bc570",
      "6f888519cc6c4fdeb278f2bf7ca7e36d",
      "4cf86e94d31446a4a47dc76e99cea62e",
      "73bc785d1c264a67875aa5ffe937328d",
      "004d0a3da127412caabb6fb78957b98c"
     ]
    },
    "executionInfo": {
     "elapsed": 15890,
     "status": "ok",
     "timestamp": 1750923030550,
     "user": {
      "displayName": "Emma BONUTTI",
      "userId": "08899363871187701144"
     },
     "user_tz": -120
    },
    "id": "BygyHv3NmLSZ",
    "outputId": "bf7e764a-c9b5-4c15-8aa7-7088f5a47a3e"
   },
   "outputs": [],
   "source": [
    "from transformers import AutoTokenizer\n",
    "tokenizer = AutoTokenizer.from_pretrained(\"ibnzterrell/Meta-Llama-3.3-70B-Instruct-AWQ-INT4\")\n",
    "tokens = tokenizer.encode(\"this is a test\", add_special_tokens=False)\n",
    "print(f\"Number of tokens: {len(tokens)}\")"
   ]
  },
  {
   "cell_type": "markdown",
   "metadata": {
    "id": "zIerJI_wVbua"
   },
   "source": [
    "Let's also measure the time of the request:"
   ]
  },
  {
   "cell_type": "code",
   "execution_count": null,
   "metadata": {
    "id": "WO7zw5FPp6mZ"
   },
   "outputs": [],
   "source": [
    "%time\n",
    "completion = client.chat.completions.create(\n",
    "  model=\"meta-llama/llama-3.3-70b-instruct\",\n",
    "  messages=[\n",
    "    {\n",
    "      \"role\": \"user\",\n",
    "      \"content\": \"Here is a text : Gold-Winning Canadian Snowboarder Cops To Error That Wasn't Spotted By Judges. Is it positive or negative or neutral. Answer only one of those options.\"\n",
    "    }\n",
    "  ]\n",
    ")"
   ]
  },
  {
   "cell_type": "markdown",
   "metadata": {
    "id": "Kbv9b-jPUl3S"
   },
   "source": [
    "Thanks to the API, this estimation is very quick!"
   ]
  },
  {
   "cell_type": "markdown",
   "metadata": {
    "id": "kwyuPVFXVgBq"
   },
   "source": [
    "### Exercise\n",
    "\n",
    "For 100 requests of titles, what is the estimated cost in time and money with the two models at hand?"
   ]
  },
  {
   "cell_type": "code",
   "execution_count": null,
   "metadata": {
    "colab": {
     "base_uri": "https://localhost:8080/"
    },
    "executionInfo": {
     "elapsed": 1255,
     "status": "ok",
     "timestamp": 1750923071170,
     "user": {
      "displayName": "Emma BONUTTI",
      "userId": "08899363871187701144"
     },
     "user_tz": -120
    },
    "id": "1EJYaX4vyKM8",
    "outputId": "94110e5c-66a3-46e5-8c1a-5c87cef8968b"
   },
   "outputs": [],
   "source": [
    "from transformers import AutoTokenizer\n",
    "tokenizer = AutoTokenizer.from_pretrained(\"ibnzterrell/Meta-Llama-3.3-70B-Instruct-AWQ-INT4\")\n",
    "\n",
    "#Tokens in text to process (put here an average-length text to classify)\n",
    "tokens_text = tokenizer.encode(\"Gold-Winning Canadian Snowboarder Cops To Error That Wasn't Spotted By Judges\",\n",
    "                               add_special_tokens=False)\n",
    "print(f\"Number of tokens: in one headline: {len(tokens_text)}\\nNumber of tokens in 100 headlines: {len(tokens_text)*100}\")"
   ]
  },
  {
   "cell_type": "code",
   "execution_count": null,
   "metadata": {
    "colab": {
     "base_uri": "https://localhost:8080/"
    },
    "executionInfo": {
     "elapsed": 12,
     "status": "ok",
     "timestamp": 1750923073272,
     "user": {
      "displayName": "Emma BONUTTI",
      "userId": "08899363871187701144"
     },
     "user_tz": -120
    },
    "id": "1-C9CH2ryZIw",
    "outputId": "279585a3-acd4-4cb7-8942-f899bf56a217"
   },
   "outputs": [],
   "source": [
    "#Tokens in prompt (put here your prompt)\n",
    "tokens_request = tokenizer.encode(\"You are a news headlines classifier. Classify this news headline as Positive or Negative\",\n",
    "                                  add_special_tokens=False)\n",
    "print(f\"Number of tokens: in one headline: {len(tokens_request)}\\nNumber of tokens in 100 headlines: {len(tokens_request)*100}\")"
   ]
  },
  {
   "cell_type": "code",
   "execution_count": null,
   "metadata": {
    "id": "mcgujqxryqOi"
   },
   "outputs": [],
   "source": [
    "#Do the calculations accordingly"
   ]
  },
  {
   "cell_type": "markdown",
   "metadata": {
    "id": "wz23KSueEQfO"
   },
   "source": [
    "## Zero-shot text classification\n",
    "\n",
    "**Zero-shot text classification** with GPT-like models means assigning a category to a piece of text **without the model being explicitly trained** on labeled examples for that task. Instead, the model uses its general language understanding to infer the correct label from the prompt.\n",
    "\n",
    "**Example:**\n",
    "\n",
    "**Task:** Classify the sentence:\n",
    "\n",
    "> \"The government passed a new climate bill.\"\n",
    "\n",
    "Into one of: *Politics, Sports, Technology*\n",
    "\n",
    "\n",
    "**Prompt to GPT:**\n",
    "Classify the following sentence into Politics, Sports, or Technology: 'The government passed a new climate bill.'\n",
    "\n",
    "**GPT's answer:** Politics\n",
    "\n",
    "The model can do this thanks to its broad training on diverse language data. No retraining or fine-tuning is needed — just good prompting."
   ]
  },
  {
   "cell_type": "markdown",
   "metadata": {
    "id": "0rXNHptyEQuO"
   },
   "source": [
    "### Dataset\n",
    "\n",
    "We will the [**News Category Dataset**](https://www.kaggle.com/datasets/rmisra/news-category-dataset?resource=download) (Misra 2022). It contains news headlines coming from the Huffington Post, in English, which have been annotated to distinguish several categories (politics, environment, business, crime, education, etc.)\n",
    "\n",
    "\n",
    "We will use a sample of 100 news headlines to limit the number of requests made to the API."
   ]
  },
  {
   "cell_type": "code",
   "execution_count": null,
   "metadata": {
    "colab": {
     "base_uri": "https://localhost:8080/",
     "height": 204
    },
    "executionInfo": {
     "elapsed": 463,
     "status": "ok",
     "timestamp": 1750923197675,
     "user": {
      "displayName": "Emma BONUTTI",
      "userId": "08899363871187701144"
     },
     "user_tz": -120
    },
    "id": "R2c01mTPL3fL",
    "outputId": "d62580db-f666-4781-9068-7fccfba973f3"
   },
   "outputs": [],
   "source": [
    "# Option 1: Load data from your personal drive (put a sample in the same folder where you store this notebook, the path of which you wrote above)\n",
    "headlines = pd.read_csv(my_path + \"headlines.csv\")\n",
    "headlines.head()\n",
    "\n",
    "# Option 2: Retrieve a sample of news headlines from this url (we placed it on our server to ease of use)\n",
    "url = \"http://ollion.cnrs.fr/wp-content/uploads/2025/06/headlines.csv\"\n",
    "headlines = pd.read_csv(url)\n",
    "headlines.head()"
   ]
  },
  {
   "cell_type": "code",
   "execution_count": null,
   "metadata": {
    "colab": {
     "base_uri": "https://localhost:8080/",
     "height": 362
    },
    "executionInfo": {
     "elapsed": 16,
     "status": "ok",
     "timestamp": 1750923200140,
     "user": {
      "displayName": "Emma BONUTTI",
      "userId": "08899363871187701144"
     },
     "user_tz": -120
    },
    "id": "3EW7kKnEOddu",
    "outputId": "ec5eb0ce-c565-4b4c-dd26-3b24a7fa6558"
   },
   "outputs": [],
   "source": [
    "headlines['gold_standard'].value_counts()"
   ]
  },
  {
   "cell_type": "markdown",
   "metadata": {
    "id": "3RDvwoiq6vg8"
   },
   "source": [
    "For the moment, we will focus on the difference between POLITICS and other.\n",
    "\n",
    "For that, we add a new gold standard column recoded in a binary way, so that the only two options are POLITICS or OTHER."
   ]
  },
  {
   "cell_type": "code",
   "execution_count": null,
   "metadata": {
    "colab": {
     "base_uri": "https://localhost:8080/",
     "height": 176
    },
    "executionInfo": {
     "elapsed": 4,
     "status": "ok",
     "timestamp": 1750923202672,
     "user": {
      "displayName": "Emma BONUTTI",
      "userId": "08899363871187701144"
     },
     "user_tz": -120
    },
    "id": "dvvmjVzROgHX",
    "outputId": "6a530a00-4b4b-49e9-aa33-7c666368372f"
   },
   "outputs": [],
   "source": [
    "headlines['gold_standard_binary'] = headlines['gold_standard'].apply(lambda x : x if x == \"POLITICS\" else \"OTHER\")\n",
    "headlines['gold_standard_binary'].value_counts()"
   ]
  },
  {
   "cell_type": "markdown",
   "metadata": {
    "id": "PbMbmuqfEQwk"
   },
   "source": [
    "### Prompt & Predictions\n",
    "\n",
    "The idea is to prompt a model which has been trained to answer instructions. It has been trained to work with a specific format.\n",
    "\n",
    "There are two points to consider:\n",
    "\n",
    "- the configuration of the model : https://www.llama.com/docs/model-cards-and-prompt-formats/llama3_3/\n",
    "- the way the API we use manages it : https://openrouter.ai/docs/api-reference/overview\n",
    "\n",
    "For llama3.3, there is the possibility to have a system instruct and a user instruct, i.e. to divide the prompt in two parts.\n",
    "\n",
    "```\n",
    "[\n",
    "  {\"role\": \"system\", \"content\": \"You are a helpful assistant.\"},\n",
    "  {\"role\": \"user\", \"content\": \"What is the capital of France?\"}\n",
    "]\n",
    "\n",
    "```\n",
    "\n",
    "Let's try with 3 prompts, to show variation. A not-so-good prompt, a better formulated prompt, and one last prompt, clarified even more. We will then compare the scores with obtain with each prompt."
   ]
  },
  {
   "cell_type": "code",
   "execution_count": null,
   "metadata": {
    "id": "9fOKHCSQP6gf"
   },
   "outputs": [],
   "source": [
    "#We put the prompt into a function\n",
    "#One function for each different prompt we want to test\n",
    "#The function takes as argument the text that we want to classify\n",
    "\n",
    "#Not-so-good prompt\n",
    "def get_prompt1(text):\n",
    "  return [{\"role\":\"system\",\n",
    "           \"content\":\"Here are some news headlines. Classify them depending on whether they talk about politics or other topics.\"},\n",
    "           {\"role\":\"user\",\"content\": f\"Classify this headline:\\n\\\"{text}\\\"\\n\"}\n",
    "  ]\n",
    "\n",
    "#Better prompt\n",
    "def get_prompt2(text):\n",
    "  return [{\"role\":\"system\",\n",
    "           \"content\":\"Here are some news headlines. Classify them depending on whether they talk about politics or other topics. Respond with 'POLITICS' or 'OTHER'.\"},\n",
    "           {\"role\":\"user\",\"content\": f\"Classify this headline:\\n\\\"{text}\\\"\\nLabel:\"}\n",
    "  ]\n",
    "\n",
    "#Even better prompt\n",
    "def get_prompt3(text):\n",
    "  return [{\"role\":\"system\",\"content\":\"You are a helpful and accurate news headline classifier. Your job is to classify news headlines as either 'POLITICS' or 'OTHER'. Only respond with exactly one of those two labels.\"},\n",
    "          {\"role\":\"user\", \"content\":f\"Classify this headline:\\n\\\"{text}\\\"\\nLabel:\"}\n",
    "  ]"
   ]
  },
  {
   "cell_type": "code",
   "execution_count": null,
   "metadata": {
    "colab": {
     "base_uri": "https://localhost:8080/"
    },
    "executionInfo": {
     "elapsed": 5,
     "status": "ok",
     "timestamp": 1750923242758,
     "user": {
      "displayName": "Emma BONUTTI",
      "userId": "08899363871187701144"
     },
     "user_tz": -120
    },
    "id": "anLFgtcaZzsS",
    "outputId": "eed1bb33-def0-4b76-f9d0-78ed1661be70"
   },
   "outputs": [],
   "source": [
    "get_prompt1(\"This is a test\")"
   ]
  },
  {
   "cell_type": "code",
   "execution_count": null,
   "metadata": {
    "colab": {
     "base_uri": "https://localhost:8080/"
    },
    "executionInfo": {
     "elapsed": 5,
     "status": "ok",
     "timestamp": 1750923244891,
     "user": {
      "displayName": "Emma BONUTTI",
      "userId": "08899363871187701144"
     },
     "user_tz": -120
    },
    "id": "vNP_VOtSaIgm",
    "outputId": "5ffaa6e7-1c2d-4a93-cf16-8e7e554ba33f"
   },
   "outputs": [],
   "source": [
    "get_prompt2(\"This is a test\")"
   ]
  },
  {
   "cell_type": "code",
   "execution_count": null,
   "metadata": {
    "colab": {
     "base_uri": "https://localhost:8080/"
    },
    "executionInfo": {
     "elapsed": 7,
     "status": "ok",
     "timestamp": 1750923246098,
     "user": {
      "displayName": "Emma BONUTTI",
      "userId": "08899363871187701144"
     },
     "user_tz": -120
    },
    "id": "0xcKgMos1kze",
    "outputId": "34fa094c-9d8a-4801-b491-c9a890b5daf8"
   },
   "outputs": [],
   "source": [
    "get_prompt3(\"This is a test\")"
   ]
  },
  {
   "cell_type": "markdown",
   "metadata": {
    "id": "m5EwUB9CzTQ2"
   },
   "source": [
    "Now we can generate the requests, using the prompts we built for this model specifically.\n",
    "\n",
    "We loop over the headlines in the sample making requests to the api and using the prompts defined in the functions above. It's a good practice to start iterating only on a few lines at first, to check that everything runs smoothly without \"wasting\" the resources you purchased through your Open Router API key."
   ]
  },
  {
   "cell_type": "code",
   "execution_count": null,
   "metadata": {
    "colab": {
     "base_uri": "https://localhost:8080/"
    },
    "executionInfo": {
     "elapsed": 7251,
     "status": "ok",
     "timestamp": 1750923288823,
     "user": {
      "displayName": "Emma BONUTTI",
      "userId": "08899363871187701144"
     },
     "user_tz": -120
    },
    "id": "d-EQflc3zdxV",
    "outputId": "142cfaf7-fd0a-47b7-8bd5-7e6152183c1f"
   },
   "outputs": [],
   "source": [
    "results = [] #initialize empty result list\n",
    "for i,j in headlines[\"headline\"][0:5].items(): #iterate over headlines in the sample; change or remove [0:5] to treat a bigger proportion of the sample of the entire sample\n",
    "  try:\n",
    "    print(f\"Request element {i}\")\n",
    "    completion = client.chat.completions.create( #make a request to the API\n",
    "      model=\"meta-llama/llama-3.3-70b-instruct\", #specify the model you want to use\n",
    "      messages=get_prompt1(j) #You can substitute with \"get_prompt2\" or \"get_prompt3\" (functions defined above)\n",
    "    )\n",
    "    results.append(completion)\n",
    "  except Exception as e:\n",
    "    print(e)\n",
    "    results.append(None)"
   ]
  },
  {
   "cell_type": "markdown",
   "metadata": {
    "id": "NVwVb8x41BSg"
   },
   "source": [
    "And extract the result:"
   ]
  },
  {
   "cell_type": "code",
   "execution_count": null,
   "metadata": {
    "colab": {
     "base_uri": "https://localhost:8080/"
    },
    "executionInfo": {
     "elapsed": 53,
     "status": "ok",
     "timestamp": 1750923293499,
     "user": {
      "displayName": "Emma BONUTTI",
      "userId": "08899363871187701144"
     },
     "user_tz": -120
    },
    "id": "TpIqrtRb1Acv",
    "outputId": "ed6925c7-c610-4166-f567-23ec0a1f761b"
   },
   "outputs": [],
   "source": [
    "#Display the output of the model for each classified headlines, i.e. its predictions\n",
    "#Test the cell above with different prompts, and evaluate which prompts gives results that best satisfy you\n",
    "classifications = [i.choices[0].message.content for i in results]\n",
    "classifications"
   ]
  },
  {
   "cell_type": "markdown",
   "metadata": {
    "id": "zIwmdBr42qyz"
   },
   "source": [
    "After having completed these tests, let's put everything together in a function that takes as arguments a prompt generator (one of the functions get_prompt1, 2 or 3 defined above, or any other you might define following the same scheme), a list of texts (in this case, the news headlines to annotate) and a model:"
   ]
  },
  {
   "cell_type": "code",
   "execution_count": null,
   "metadata": {
    "id": "dsWq7PJf2zI1"
   },
   "outputs": [],
   "source": [
    "def do_predictions(prompt_generator, texts, model):\n",
    "  \"\"\"\n",
    "  Inference with the API for a model, a list of text and a prompt format\n",
    "  \"\"\"\n",
    "  results = []\n",
    "  for i,j in texts.items():\n",
    "    try:\n",
    "      completion = client.chat.completions.create(\n",
    "        model=model,\n",
    "        messages=prompt_generator(j)\n",
    "      )\n",
    "      results.append(completion)\n",
    "    except Exception as e:\n",
    "      print(e)\n",
    "      results.append(None)\n",
    "  return results"
   ]
  },
  {
   "cell_type": "code",
   "execution_count": null,
   "metadata": {
    "colab": {
     "base_uri": "https://localhost:8080/"
    },
    "executionInfo": {
     "elapsed": 1774,
     "status": "ok",
     "timestamp": 1750923368081,
     "user": {
      "displayName": "Emma BONUTTI",
      "userId": "08899363871187701144"
     },
     "user_tz": -120
    },
    "id": "7qzRA4JzQjBS",
    "outputId": "1884f76f-a966-4787-ac06-998f7d55c7bb"
   },
   "outputs": [],
   "source": [
    "r = do_predictions(get_prompt3, #prompt you want to use\n",
    "                   headlines[\"headline\"][0:5], #texts you want to classify (change or remove [0:5])\n",
    "                   \"meta-llama/llama-3.3-70b-instruct\" #model you want to use\n",
    "                   )\n",
    "[i.choices[0].message.content for i in r]"
   ]
  },
  {
   "cell_type": "markdown",
   "metadata": {
    "id": "G_neCl7W2j8j"
   },
   "source": [
    "Let's run it for the best prompt & for the 2 models"
   ]
  },
  {
   "cell_type": "code",
   "execution_count": null,
   "metadata": {
    "id": "IHFVoTSp38Ok"
   },
   "outputs": [],
   "source": [
    "# Create a smaller dataset for test\n",
    "df = headlines[0:10].copy() #select more or less rows, as you wish\n",
    "\n",
    "r_llama33 = do_predictions(get_prompt3, df[\"headline\"], \"meta-llama/llama-3.3-70b-instruct\")\n",
    "r_gpt4o = do_predictions(get_prompt3, df[\"headline\"], \"openai/gpt-4o-mini\")"
   ]
  },
  {
   "cell_type": "code",
   "execution_count": null,
   "metadata": {
    "id": "XK7F9RNW4UxV"
   },
   "outputs": [],
   "source": [
    "# Store the predictions as new columns of the original dataset, so that then you can compare with the gold standard\n",
    "df[\"llama3.3\"] = [i.choices[0].message.content for i in r_llama33]\n",
    "df[\"gpt4omini\"] = [i.choices[0].message.content for i in r_gpt4o]"
   ]
  },
  {
   "cell_type": "code",
   "execution_count": null,
   "metadata": {
    "colab": {
     "base_uri": "https://localhost:8080/",
     "height": 142
    },
    "executionInfo": {
     "elapsed": 22,
     "status": "ok",
     "timestamp": 1750923394415,
     "user": {
      "displayName": "Emma BONUTTI",
      "userId": "08899363871187701144"
     },
     "user_tz": -120
    },
    "id": "UwLLp5mZ465v",
    "outputId": "374ba7df-8eef-4a23-cb16-0b9404fbef3d"
   },
   "outputs": [],
   "source": [
    "# Consider on which classifications the models agree or disagree\n",
    "pd.crosstab(df[\"llama3.3\"], df[\"gpt4omini\"])"
   ]
  },
  {
   "cell_type": "code",
   "execution_count": null,
   "metadata": {
    "colab": {
     "base_uri": "https://localhost:8080/",
     "height": 359
    },
    "executionInfo": {
     "elapsed": 43,
     "status": "ok",
     "timestamp": 1750923395312,
     "user": {
      "displayName": "Emma BONUTTI",
      "userId": "08899363871187701144"
     },
     "user_tz": -120
    },
    "id": "ueqFhYqkKrxT",
    "outputId": "71ddbbe2-29e1-420e-fef2-ed63cb248045"
   },
   "outputs": [],
   "source": [
    "# Display the results, to see on which headlines the models disagree with the gold standard\n",
    "df"
   ]
  },
  {
   "cell_type": "markdown",
   "metadata": {
    "id": "7QRdITJ-EQyq"
   },
   "source": [
    "### Evaluation\n",
    "\n",
    "Now that we have a prediction, we need to measure its quality. For that, we compare it to the gold standard.\n",
    "\n",
    "\n",
    "The classical metrics are : f1-score, precision, recall, micro and macro.\n",
    "> **Precision**: Of all the items the model said were positive, how many actually were?\n",
    "  - precision = TP /(TP+FP)\n",
    "  - high precision = few false positives\n",
    "\n",
    "> **Recall:** Of all the actual positives, how many did the model correctly identify?\n",
    "  - recall = TP /(TP+FN)\n",
    "  - high recall = few false negatives\n",
    "\n",
    "> **F1-Score:** The harmonic mean of precision and recall:\n",
    "  - F1 = 2 * [(Precision * Recall) / Precision + Recall]\n",
    "\n",
    "> **Macro average**: Calculate precision/recall/F1 for each class, then take the unweighted average.\n",
    "\n",
    "> **Micro average:** Aggregate all TP, FP, FN across classes, then compute metrics."
   ]
  },
  {
   "cell_type": "code",
   "execution_count": null,
   "metadata": {
    "colab": {
     "base_uri": "https://localhost:8080/",
     "height": 204
    },
    "executionInfo": {
     "elapsed": 26,
     "status": "ok",
     "timestamp": 1750923404351,
     "user": {
      "displayName": "Emma BONUTTI",
      "userId": "08899363871187701144"
     },
     "user_tz": -120
    },
    "id": "bkCbDklp6Zco",
    "outputId": "fefc9142-7caf-448e-c488-e19680a083f6"
   },
   "outputs": [],
   "source": [
    "from sklearn.metrics import classification_report, f1_score\n",
    "df.head()"
   ]
  },
  {
   "cell_type": "code",
   "execution_count": null,
   "metadata": {
    "colab": {
     "base_uri": "https://localhost:8080/"
    },
    "executionInfo": {
     "elapsed": 5,
     "status": "ok",
     "timestamp": 1750923406602,
     "user": {
      "displayName": "Emma BONUTTI",
      "userId": "08899363871187701144"
     },
     "user_tz": -120
    },
    "id": "nMTMQ_S16XJH",
    "outputId": "66b01316-1b7b-45c7-ec57-9a9886a19a44"
   },
   "outputs": [],
   "source": [
    "# Compare performances of first model we tested with the gold standard\n",
    "print(classification_report(df[\"gold_standard_binary\"], df[\"llama3.3\"], digits=3))"
   ]
  },
  {
   "cell_type": "code",
   "execution_count": null,
   "metadata": {
    "colab": {
     "base_uri": "https://localhost:8080/"
    },
    "executionInfo": {
     "elapsed": 21,
     "status": "ok",
     "timestamp": 1750923409147,
     "user": {
      "displayName": "Emma BONUTTI",
      "userId": "08899363871187701144"
     },
     "user_tz": -120
    },
    "id": "P9waWdQEQ4OG",
    "outputId": "ebed14d6-0bb9-4432-8897-b94e74b45d2d"
   },
   "outputs": [],
   "source": [
    "# Compare performances of second model we tested with the gold standard\n",
    "print(classification_report(df[\"gold_standard_binary\"], df[\"gpt4omini\"], digits=3))"
   ]
  },
  {
   "cell_type": "code",
   "execution_count": null,
   "metadata": {
    "colab": {
     "base_uri": "https://localhost:8080/"
    },
    "executionInfo": {
     "elapsed": 5,
     "status": "ok",
     "timestamp": 1750923445616,
     "user": {
      "displayName": "Emma BONUTTI",
      "userId": "08899363871187701144"
     },
     "user_tz": -120
    },
    "id": "28ssB5V27bEi",
    "outputId": "6ed4a303-ac3a-4c09-b836-14aa7e0fced5"
   },
   "outputs": [],
   "source": [
    "# Calculate the f1 score specifically\n",
    "f1_score(df[\"gold_standard_binary\"], df[\"llama3.3\"], average=\"macro\")"
   ]
  },
  {
   "cell_type": "code",
   "execution_count": null,
   "metadata": {
    "colab": {
     "base_uri": "https://localhost:8080/"
    },
    "executionInfo": {
     "elapsed": 4,
     "status": "ok",
     "timestamp": 1750923446963,
     "user": {
      "displayName": "Emma BONUTTI",
      "userId": "08899363871187701144"
     },
     "user_tz": -120
    },
    "id": "JKGydGGy7g7z",
    "outputId": "44613780-6059-4e6c-d3fa-0a6f10c07517"
   },
   "outputs": [],
   "source": [
    "\n",
    "f1_score(df[\"gold_standard_binary\"], df[\"gpt4omini\"], average=\"macro\")"
   ]
  },
  {
   "cell_type": "markdown",
   "metadata": {
    "id": "NBbT0e_LEQ2l"
   },
   "source": [
    "## Your turn to try\n",
    "\n",
    "Now try to see if you can produce better results by testing different prompts."
   ]
  },
  {
   "cell_type": "markdown",
   "metadata": {
    "id": "ZwIrTcUCT1J7"
   },
   "source": [
    "### Some prompt engineering tips\n",
    "1. Be **specific** (write more if necessary): if categories are vague, provide definitions.\n",
    "2. Use **simple**, accessible language\n",
    "3. Create a scenario (**system prompt**)\n",
    "4. Specify requirements of **output format**; ask for the label only\n",
    "5. Use **delimiters**: Put instructions at the beginning of the prompt and use ### or \"\"\" to separate the instruction and context.\n",
    "6. Add **clear syntax**. Using clear syntax for your prompt—including punctuation, headings, and section markers—helps communicate intent and often makes outputs easier to parse.\n",
    "\n",
    "For more complex applications:\n",
    "7. **Encourage the model to think** through the problem before giving an answer. Telling the model to reason step-by-step can help avoid rushing to incorrect conclusions.\n",
    "8. **\"Chain-of-thought\"**: Use sentences like “Explain the process step by step”, “Think each step”, \"Thinking backwards\" or “Cite the reasons behind”."
   ]
  },
  {
   "cell_type": "code",
   "execution_count": null,
   "metadata": {
    "colab": {
     "base_uri": "https://localhost:8080/",
     "height": 223
    },
    "executionInfo": {
     "elapsed": 61,
     "status": "ok",
     "timestamp": 1750254809423,
     "user": {
      "displayName": "Emma BONUTTI",
      "userId": "08899363871187701144"
     },
     "user_tz": -120
    },
    "id": "xAEFDarQUNeR",
    "outputId": "b9e3866f-33ef-48b4-cdcf-1470bbe3b0bf"
   },
   "outputs": [],
   "source": [
    "headlines.head()"
   ]
  },
  {
   "cell_type": "markdown",
   "metadata": {
    "id": "lNjLLD2KEQ5Z"
   },
   "source": [
    "## Few-shot text classification\n",
    "\n",
    "**Few-shot classification** includes one or a few **labeled examples in the prompt** to help the model understand the task before classifying a new input.\n",
    "\n",
    "\n",
    "**Example:**\n",
    "\n",
    "**Task:** Classify the sentence:\n",
    "\n",
    "> \"The government passed a new climate bill.\"\n",
    "\n",
    "Into one of: *Politics, Sports, Technology*\n",
    "\n",
    "\n",
    "**Prompt to GPT:**\n",
    "\"Classify the following sentences into Politics, Sports, or Technology:\n",
    "\n",
    "'The government passed a new climate bill.' => Politics\n",
    "\n",
    "'PSG wins the European Championship.' => Sports\n",
    "\n",
    "'Open AI releases new artificial intelligence model.' => Techology\n",
    "\n",
    "'Donald Trump announces new tariffs against China' =>\"\n",
    "\n",
    "**GPT's answer:** Politics"
   ]
  },
  {
   "cell_type": "markdown",
   "metadata": {
    "id": "GrrG6UoTGDIg"
   },
   "source": [
    "## Prompt & Predictions"
   ]
  },
  {
   "cell_type": "code",
   "execution_count": null,
   "metadata": {
    "id": "IFN97eFSTTKd"
   },
   "outputs": [],
   "source": [
    "# Let's build the prompt, with some examples\n",
    "# We do so by defining a function, just as we did above\n",
    "# The function takes as argument the text that we want to classify and the few-shot examples\n",
    "\n",
    "few_shot_examples = [\n",
    "        (\"Biden signs executive order on student debt relief\", \"POLITICS\"),\n",
    "        (\"Amazon launches new AI-powered Alexa features\", \"OTHER\"),\n",
    "        (\"Congress debates military spending bill\", \"POLITICS\"),\n",
    "        (\"PSG wins much-anticipated Champions League\", \"OTHER\")\n",
    "        ]\n",
    "\n",
    "def get_prompt_few_shots(text: str, examples: list[tuple] = few_shot_examples):\n",
    "  examples = \"\\n\".join([f\"Classify this headline:\\n{headline}\\nLabel: {label}\\n\\n\" for headline, label in examples])\n",
    "  return [{\"role\":\"system\",\n",
    "           \"content\":\"You are a strict news classifier. You must respond with one word only — either 'POLITICS' or 'OTHER'.\" +\n",
    "           \"\\n Do not explain. Do not output anything else.\"\n",
    "\n",
    "           },\n",
    "           {\"role\":\"user\",\"content\": f\"{examples}\\nClassify this headline:\\n\\\"{text}\\\"\\nLabel:\"}\n",
    "  ]"
   ]
  },
  {
   "cell_type": "code",
   "execution_count": null,
   "metadata": {
    "colab": {
     "base_uri": "https://localhost:8080/"
    },
    "executionInfo": {
     "elapsed": 4,
     "status": "ok",
     "timestamp": 1750923487874,
     "user": {
      "displayName": "Emma BONUTTI",
      "userId": "08899363871187701144"
     },
     "user_tz": -120
    },
    "id": "fubOWFVxAMCv",
    "outputId": "214e5a46-9e25-47ea-f1da-9d786d31c9af"
   },
   "outputs": [],
   "source": [
    "get_prompt_few_shots(\"This is a test\")"
   ]
  },
  {
   "cell_type": "markdown",
   "metadata": {
    "id": "oLlnucNuBE_V"
   },
   "source": [
    "Let's use the same function as before, to obtain the predictions"
   ]
  },
  {
   "cell_type": "code",
   "execution_count": null,
   "metadata": {
    "id": "bwrBbcG-TWRw"
   },
   "outputs": [],
   "source": [
    "r_llama33 = do_predictions(get_prompt_few_shots, #prompt used: few-shot version\n",
    "                           df[\"headline\"], #texts to classify\n",
    "                           \"meta-llama/llama-3.3-70b-instruct\" #model used\n",
    "                           )\n",
    "r_gpt4o = do_predictions(get_prompt_few_shots,\n",
    "                         df[\"headline\"],\n",
    "                         \"openai/gpt-4o-mini\"\n",
    "                         )\n",
    "\n",
    "df[\"fs_llama3.3\"] = [i.choices[0].message.content for i in r_llama33] #store predictions in new column\n",
    "df[\"fs_gpt4omini\"] = [i.choices[0].message.content for i in r_gpt4o] #store predictions in new column"
   ]
  },
  {
   "cell_type": "code",
   "execution_count": null,
   "metadata": {
    "colab": {
     "base_uri": "https://localhost:8080/",
     "height": 512
    },
    "executionInfo": {
     "elapsed": 26,
     "status": "ok",
     "timestamp": 1750923518843,
     "user": {
      "displayName": "Emma BONUTTI",
      "userId": "08899363871187701144"
     },
     "user_tz": -120
    },
    "id": "2S88kZZ349no",
    "outputId": "ddc679f6-2a64-4ca7-9878-5645ab9c0520"
   },
   "outputs": [],
   "source": [
    "df"
   ]
  },
  {
   "cell_type": "markdown",
   "metadata": {
    "id": "lUglhPcWGKM5"
   },
   "source": [
    "## Evaluation\n",
    "And we will compare results with the zero-shot classification."
   ]
  },
  {
   "cell_type": "code",
   "execution_count": null,
   "metadata": {
    "colab": {
     "base_uri": "https://localhost:8080/"
    },
    "executionInfo": {
     "elapsed": 6,
     "status": "ok",
     "timestamp": 1750923524621,
     "user": {
      "displayName": "Emma BONUTTI",
      "userId": "08899363871187701144"
     },
     "user_tz": -120
    },
    "id": "zvfuGq3zCGek",
    "outputId": "3448fde9-4555-4e12-c27d-07861ed5c836"
   },
   "outputs": [],
   "source": [
    "print(classification_report(df[\"gold_standard_binary\"], df[\"fs_llama3.3\"], digits=3))"
   ]
  },
  {
   "cell_type": "code",
   "execution_count": null,
   "metadata": {
    "colab": {
     "base_uri": "https://localhost:8080/"
    },
    "executionInfo": {
     "elapsed": 5,
     "status": "ok",
     "timestamp": 1750923527268,
     "user": {
      "displayName": "Emma BONUTTI",
      "userId": "08899363871187701144"
     },
     "user_tz": -120
    },
    "id": "478K31UPCIdk",
    "outputId": "a4d3e7bd-ab31-45a3-ff9f-093abb403c1a"
   },
   "outputs": [],
   "source": [
    "print(classification_report(df[\"gold_standard_binary\"], df[\"fs_gpt4omini\"], digits=3))"
   ]
  },
  {
   "cell_type": "markdown",
   "metadata": {
    "id": "h53SpNCsGOFE"
   },
   "source": [
    "# Model without API\n",
    "\n",
    "Without doing the details of the application, let us have a look at the code that we would need if we tried to do a text classification task loading the model locally, without relying on an API.\n",
    "\n",
    "Here, we need to deal with questions related to computational costs associated with the model - how much memory does it occupy, does it exist in quantized version, how much time will it take to do the inference, will your RAM be enough? Etc.\n",
    "\n",
    "Here is the model we want to use : https://huggingface.co/unsloth/Llama-3.2-3B-Instruct\n",
    "\n",
    "- It's big: it takes time to download (7Gb)\n",
    "- You will need to select a GPU T4 in the colab (modify the type of execution)"
   ]
  },
  {
   "cell_type": "code",
   "execution_count": null,
   "metadata": {
    "colab": {
     "background_save": true,
     "base_uri": "https://localhost:8080/",
     "height": 305,
     "referenced_widgets": [
      "eb31f477b0754df095b298ff524cf164",
      "b376d7d4da3a4d71b480cf373a332b18",
      "76c02d2c38d842c1915a0916a956ea7e",
      "ff108ce759884f71915175e5b5747d34",
      "ca20d020ecfd495da7bcb174a5711635",
      "b8a19d4691bb4f75b0232990caab3b58",
      "99dc328024f943b3ac1e1e0c959a677e",
      "8baf68f1c0164d8f846f7ab477ac30fc",
      "8b3d70925bd84297b6dddf0cc9430288",
      "93c3713acdef43ed8ba8a464932dc056",
      "a108f45d090b49038f4bc92bc7cb6164",
      "95571516ddf04463bed531387c22ad9b",
      "54557c2d0208412cad98909a7df3ed44",
      "2c96e2efdb4349aca098a446a0b0c40f",
      "06177429f1124fdcbf913dd2f6a50dee",
      "a824df29a0134727a07e198988e49532",
      "cff746d7ec024e6792bd2e7f8e1c6f1d",
      "05a6bec2ec44405c8b5f6c12b200e3b9",
      "77d6064692ef468893b7e606e3649f50",
      "9cea37b102dd4a53ba5a579982324e68",
      "17550f89ad9f41819d31bbe00df4a2ac",
      "c3a72b72a4264cbd8e55e8d9e79cfb20",
      "61d491cf9c2a4d1ca12bfaf638a7590c",
      "f897a213b7954bd7a4270dfedd2db719",
      "1c61b1f7f33043d3be49d0b1b4ded362",
      "43739554ca53468e9755105253ea08a3",
      "0b6009b5b3d048b5b5f8bd27823add8c",
      "a7fb3e84cc4244cd9ccbae396c1a7ca7",
      "a0c2bc9582aa4bffbc019714d5fbbcde",
      "9e4f386a46bc4be28cbf62be52c294e7",
      "f839a64e2fdb47eda34799119e0ed871",
      "4599abacd48446658d8d364dba42c614",
      "fd4d645dc4304fbd95b4081288e77a03",
      "d0204761259c4d5f94fe5750d8f5a25a",
      "53f5aa27ef6d4a339b9493195a48465d",
      "a3529b153d5b4171aa1015374287a8fd",
      "71b0975b7d2f4308b1683224830a494d",
      "745d5ad0ed654eb7b5336799476b4876",
      "c56a1fd264544d598c968aa59eae6d82",
      "500be9abe3274df686ac725387edde18",
      "de6c66f14b7d45e5a7abe4229a1762b3",
      "ababaf7e6ff24dacbdbf90c1350ab73c",
      "1ae6d5d234e24caabd7c513903b6129d",
      "e749b562e9934c4e9ce7f13600fa93c2",
      "de2e6a16697a431dbcd79e502fb6fcba",
      "de721a7c553d49bdaec5a0b6caf01b02",
      "ba140496fd954269b86131066e83e9a0",
      "b2db77272b534b69a0610fc5f622fa7b",
      "58f61b7dcee54514beb3502842ea7b3e",
      "56b2e1d667ac4d32809b6a6aa2bc4ca6",
      "4352758dcd314c8ab213dfb67a9ec084",
      "e948ff3ca3b249b79cc25062b2ba3936",
      "22ba7718d02a497b8c9a1418559ebead",
      "e570b718bbe1404b8bb89bc606726ccc",
      "a08ac9d2d5c648c5ba9bfa2fbb3fe90d",
      "532c44b13bdb4593a8e98c54e08e8880",
      "b4010ebbe6c44ed68db33c16fec09890",
      "0b8ec7029a4841d3a7834cfc5e65ecd5",
      "d41380a83a8940afa93a0e708c57e9a0",
      "846140287e674ccf8be62dc00302f0f2",
      "7f08a04aca6b4b88a77e77a312929e91",
      "252a2c368ceb4f4c800b1cb5907e8a23",
      "6d7ca213ed1344a79784b99a1027e5b8",
      "8e72354facf446daa568d09c31a30c9d",
      "68ac573982bb4901888ed3d4edc0aa97",
      "681d00be036a4dc3bac7359b7363e96a",
      "c02d0432c9164e169a5435b536d02a69",
      "db00069ddeab4a0e890029ee8583e036",
      "8d4499c064ea428393dd8b5eba60d852",
      "45af4d649a014ad8aced1ed43c9257b7",
      "3b458dfdb1a9403ea223da0cad874a57",
      "21c5b958373f43f2ae5ea9e88bb5ad3e",
      "4d44d0ae43cd46409789583a2dbe2b29",
      "7967b8126f3947cfb4baadf40648f5e4",
      "5b9e2b4f761c4854893196985760f3f7",
      "38cdb19e27e840be8ae64c7201495e40",
      "459b0c034f734379ad9822bfec639b9f",
      "7bc3db51f5a14281bb4ed4a492ae901e",
      "18fe7640fb1340a09cd39b4f83262bea",
      "3da7448f142743438df84aeacd3ed0f0",
      "01d4de2c079e434aa8b61d684073160a",
      "96f5683f75d047f9902fd4e3bc9660dd",
      "8841c7b143e54817b6d00b7a525f5e4c",
      "08526008a0ce41c79fb582cb196008e4",
      "8bb4cc6407e64d2190e2da2976ffc0e1",
      "310cad4b2e8f49748ea8a9c7c57113cf",
      "84e81bf73c5f43d3b5a45f1cef405bd1",
      "30c1103ca1dd414c8e035958ff18dd0b",
      "4000e527ccfa4babb700f4c81a1c41bf",
      "e7ac1662441c41229c647abbc26f4716",
      "b50d8fdfe944445d84cbc4dd261109e8",
      "0454268ca45046fd9b38e59c480beec4",
      "1bd941b5513e468ebbb436803498e720",
      "c71de519931943989e3b6469ffcab196",
      "9125bd56962749b297ca1b3e7a5e6d30",
      "0d104265103a4753bf1f4d7a1df3bb60",
      "5268e169d1514b09b449776036ec6f13",
      "3827b5c56942499a9d9504ae0a4c1aff",
      "599a7030b30a41b3b384cfe00624a730",
      "7a41e953f5c34661877714e85d4e9de9",
      "09d569030664412e977eab7ef561aae4"
     ]
    },
    "id": "DkLgBdrKGCl4",
    "outputId": "a193a620-5e41-4404-bd67-084e905c6d7f"
   },
   "outputs": [],
   "source": [
    "from transformers import AutoModelForCausalLM, AutoTokenizer, pipeline\n",
    "\n",
    "# Load model and tokenizer\n",
    "model_id = \"unsloth/Llama-3.2-3B-Instruct\"\n",
    "tokenizer = AutoTokenizer.from_pretrained(model_id)\n",
    "model = AutoModelForCausalLM.from_pretrained(\n",
    "    model_id,\n",
    "    device_map=\"auto\",\n",
    "    torch_dtype=\"auto\"\n",
    ")\n",
    "\n",
    "# Create a prompt\n",
    "prompt = (\n",
    "    \"<|system|>\\n\"\n",
    "    \"Your task is to classify the sentiment of the text.\\n\"\n",
    "    \"<|user|>\\n\"\n",
    "    \"Here a text : Gold-Winning Canadian Snowboarder Cops To Error That Wasn't Spotted By Judges. \"\n",
    "    \"Is it positive or negative or neutral. Answer only one of those options.\\n\"\n",
    "    \"<|assistant|>\\n\"\n",
    ")\n",
    "\n",
    "# Generate inference using pipeline\n",
    "text_generator = pipeline(\n",
    "    \"text-generation\",\n",
    "    model=model,\n",
    "    tokenizer=tokenizer,\n",
    "    max_new_tokens=20,\n",
    "    temperature=0.7\n",
    ")\n",
    "\n",
    "# Run inference\n",
    "output = text_generator(prompt)\n",
    "print(output[0]['generated_text'])"
   ]
  },
  {
   "cell_type": "markdown",
   "metadata": {
    "id": "oTdwT-JAHp5z"
   },
   "source": [
    "Let's try to use it on the news headlines dataset:"
   ]
  },
  {
   "cell_type": "code",
   "execution_count": null,
   "metadata": {
    "colab": {
     "base_uri": "https://localhost:8080/"
    },
    "executionInfo": {
     "elapsed": 5833,
     "status": "ok",
     "timestamp": 1750336174654,
     "user": {
      "displayName": "Emilien SCHULTZ",
      "userId": "06747580107499041598"
     },
     "user_tz": -120
    },
    "id": "QRmwtyEiEI1J",
    "outputId": "d8557ab8-d6c5-4dc5-cb0b-62ec2b7d8a35"
   },
   "outputs": [],
   "source": [
    "def get_prompt_llama32(text):\n",
    "  return f\"\"\"\n",
    "<|begin_of_text|>\n",
    "<|start_header_id|>system<|end_header_id|>\n",
    "You are a helpful and accurate news headline classifier. Your job is to classify news headlines as either 'POLITICS' or 'OTHER'. Only respond with exactly one of those two labels.\n",
    "<|eot_id|>\n",
    "<|start_header_id|>user<|end_header_id|>\n",
    "f\"Classify this headline:\\n\\\"{text}\\\"\\nLabel:\n",
    "<|eot_id|><|start_header_id|>assistant<|end_header_id|>\"\"\"\n",
    "\n",
    "results = []\n",
    "for i,j in headlines[\"headline\"][0:10].items():\n",
    "  try:\n",
    "    print(f\"Request element {i}\")\n",
    "    completion = text_generator(get_prompt_llama32(j))\n",
    "    results.append(completion)\n",
    "  except Exception as e:\n",
    "    print(e)\n",
    "    results.append(None)"
   ]
  },
  {
   "cell_type": "code",
   "execution_count": null,
   "metadata": {
    "colab": {
     "base_uri": "https://localhost:8080/"
    },
    "executionInfo": {
     "elapsed": 6,
     "status": "ok",
     "timestamp": 1750336175493,
     "user": {
      "displayName": "Emilien SCHULTZ",
      "userId": "06747580107499041598"
     },
     "user_tz": -120
    },
    "id": "mBhJYQU7I1ws",
    "outputId": "37f934aa-bd0b-46d0-c532-db4bc1d98d61"
   },
   "outputs": [],
   "source": [
    "results[0]"
   ]
  },
  {
   "cell_type": "markdown",
   "metadata": {
    "id": "wZj-beBcKrJp"
   },
   "source": [
    "How to run it on the complete dataset and clean the inference ?"
   ]
  },
  {
   "cell_type": "code",
   "execution_count": null,
   "metadata": {
    "id": "mmYaDKLtIbWC"
   },
   "outputs": [],
   "source": []
  },
  {
   "cell_type": "markdown",
   "metadata": {
    "id": "XAOii2lv7Jae"
   },
   "source": [
    "**Tips to understand how to format the prompt**:\n",
    "\n",
    "> Check the **Hugging Face Model Card**: most open-source models on Hugging Face explain their expected prompt format.\n",
    ">\n",
    "> Look for:\n",
    "- Sections like \"Prompt Format\", \"Usage\", \"How to prompt this model\"\n",
    "- Examples of input/output pairs\n",
    "- Tokenizer notes\n",
    "\n",
    "> Read `tokenizer_config.json` or `generation_config.json`.\n",
    ">\n",
    "> If you're using `transformers`, you can inspect files in the model folder:\n",
    "- Look for tokens like `<|user|>`, `<|assistant|>`,` <|system|>`, `bos_token`, etc. These help you infer how the prompt should be wrapped.\n",
    "\n",
    "\n",
    "> Resources:\n",
    "> - https://github.com/dair-ai/Prompt-Engineering-Guide\n",
    "> - https://github.com/f/awesome-chatgpt-prompts"
   ]
  }
 ],
 "metadata": {
  "accelerator": "GPU",
  "colab": {
   "gpuType": "T4",
   "provenance": [],
   "toc_visible": true
  },
  "kernelspec": {
   "display_name": "Python 3",
   "name": "python3"
  },
  "language_info": {
   "name": "python"
  },
  "widgets": {
   "application/vnd.jupyter.widget-state+json": {
    "004d0a3da127412caabb6fb78957b98c": {
     "model_module": "@jupyter-widgets/controls",
     "model_module_version": "1.5.0",
     "model_name": "DescriptionStyleModel",
     "state": {
      "_model_module": "@jupyter-widgets/controls",
      "_model_module_version": "1.5.0",
      "_model_name": "DescriptionStyleModel",
      "_view_count": null,
      "_view_module": "@jupyter-widgets/base",
      "_view_module_version": "1.2.0",
      "_view_name": "StyleView",
      "description_width": ""
     }
    },
    "01d4de2c079e434aa8b61d684073160a": {
     "model_module": "@jupyter-widgets/controls",
     "model_module_version": "1.5.0",
     "model_name": "HTMLModel",
     "state": {
      "_dom_classes": [],
      "_model_module": "@jupyter-widgets/controls",
      "_model_module_version": "1.5.0",
      "_model_name": "HTMLModel",
      "_view_count": null,
      "_view_module": "@jupyter-widgets/controls",
      "_view_module_version": "1.5.0",
      "_view_name": "HTMLView",
      "description": "",
      "description_tooltip": null,
      "layout": "IPY_MODEL_84e81bf73c5f43d3b5a45f1cef405bd1",
      "placeholder": "​",
      "style": "IPY_MODEL_30c1103ca1dd414c8e035958ff18dd0b",
      "value": " 472M/4.97G [00:19&lt;01:29, 50.2MB/s]"
     }
    },
    "02a22c294edc4322895f56ad8d109b44": {
     "model_module": "@jupyter-widgets/base",
     "model_module_version": "1.2.0",
     "model_name": "LayoutModel",
     "state": {
      "_model_module": "@jupyter-widgets/base",
      "_model_module_version": "1.2.0",
      "_model_name": "LayoutModel",
      "_view_count": null,
      "_view_module": "@jupyter-widgets/base",
      "_view_module_version": "1.2.0",
      "_view_name": "LayoutView",
      "align_content": null,
      "align_items": null,
      "align_self": null,
      "border": null,
      "bottom": null,
      "display": null,
      "flex": null,
      "flex_flow": null,
      "grid_area": null,
      "grid_auto_columns": null,
      "grid_auto_flow": null,
      "grid_auto_rows": null,
      "grid_column": null,
      "grid_gap": null,
      "grid_row": null,
      "grid_template_areas": null,
      "grid_template_columns": null,
      "grid_template_rows": null,
      "height": null,
      "justify_content": null,
      "justify_items": null,
      "left": null,
      "margin": null,
      "max_height": null,
      "max_width": null,
      "min_height": null,
      "min_width": null,
      "object_fit": null,
      "object_position": null,
      "order": null,
      "overflow": null,
      "overflow_x": null,
      "overflow_y": null,
      "padding": null,
      "right": null,
      "top": null,
      "visibility": null,
      "width": null
     }
    },
    "0454268ca45046fd9b38e59c480beec4": {
     "model_module": "@jupyter-widgets/controls",
     "model_module_version": "1.5.0",
     "model_name": "HTMLModel",
     "state": {
      "_dom_classes": [],
      "_model_module": "@jupyter-widgets/controls",
      "_model_module_version": "1.5.0",
      "_model_name": "HTMLModel",
      "_view_count": null,
      "_view_module": "@jupyter-widgets/controls",
      "_view_module_version": "1.5.0",
      "_view_name": "HTMLView",
      "description": "",
      "description_tooltip": null,
      "layout": "IPY_MODEL_3827b5c56942499a9d9504ae0a4c1aff",
      "placeholder": "​",
      "style": "IPY_MODEL_599a7030b30a41b3b384cfe00624a730",
      "value": " 389M/1.46G [00:15&lt;00:26, 40.3MB/s]"
     }
    },
    "05a6bec2ec44405c8b5f6c12b200e3b9": {
     "model_module": "@jupyter-widgets/controls",
     "model_module_version": "1.5.0",
     "model_name": "DescriptionStyleModel",
     "state": {
      "_model_module": "@jupyter-widgets/controls",
      "_model_module_version": "1.5.0",
      "_model_name": "DescriptionStyleModel",
      "_view_count": null,
      "_view_module": "@jupyter-widgets/base",
      "_view_module_version": "1.2.0",
      "_view_name": "StyleView",
      "description_width": ""
     }
    },
    "06177429f1124fdcbf913dd2f6a50dee": {
     "model_module": "@jupyter-widgets/controls",
     "model_module_version": "1.5.0",
     "model_name": "HTMLModel",
     "state": {
      "_dom_classes": [],
      "_model_module": "@jupyter-widgets/controls",
      "_model_module_version": "1.5.0",
      "_model_name": "HTMLModel",
      "_view_count": null,
      "_view_module": "@jupyter-widgets/controls",
      "_view_module_version": "1.5.0",
      "_view_name": "HTMLView",
      "description": "",
      "description_tooltip": null,
      "layout": "IPY_MODEL_17550f89ad9f41819d31bbe00df4a2ac",
      "placeholder": "​",
      "style": "IPY_MODEL_c3a72b72a4264cbd8e55e8d9e79cfb20",
      "value": " 17.2M/17.2M [00:00&lt;00:00, 23.3MB/s]"
     }
    },
    "0743051227894007b77feac808e5114c": {
     "model_module": "@jupyter-widgets/controls",
     "model_module_version": "1.5.0",
     "model_name": "HBoxModel",
     "state": {
      "_dom_classes": [],
      "_model_module": "@jupyter-widgets/controls",
      "_model_module_version": "1.5.0",
      "_model_name": "HBoxModel",
      "_view_count": null,
      "_view_module": "@jupyter-widgets/controls",
      "_view_module_version": "1.5.0",
      "_view_name": "HBoxView",
      "box_style": "",
      "children": [
       "IPY_MODEL_cf255ea6367546999cdecbeb5430bd63",
       "IPY_MODEL_4cb16753211f4fcea386327bd16c79a8",
       "IPY_MODEL_a6a558eea8f648d1bb3e1fc3b54a23e8"
      ],
      "layout": "IPY_MODEL_24a8899047354f9fb29548cc45f43adb"
     }
    },
    "08526008a0ce41c79fb582cb196008e4": {
     "model_module": "@jupyter-widgets/controls",
     "model_module_version": "1.5.0",
     "model_name": "DescriptionStyleModel",
     "state": {
      "_model_module": "@jupyter-widgets/controls",
      "_model_module_version": "1.5.0",
      "_model_name": "DescriptionStyleModel",
      "_view_count": null,
      "_view_module": "@jupyter-widgets/base",
      "_view_module_version": "1.2.0",
      "_view_name": "StyleView",
      "description_width": ""
     }
    },
    "0b6009b5b3d048b5b5f8bd27823add8c": {
     "model_module": "@jupyter-widgets/base",
     "model_module_version": "1.2.0",
     "model_name": "LayoutModel",
     "state": {
      "_model_module": "@jupyter-widgets/base",
      "_model_module_version": "1.2.0",
      "_model_name": "LayoutModel",
      "_view_count": null,
      "_view_module": "@jupyter-widgets/base",
      "_view_module_version": "1.2.0",
      "_view_name": "LayoutView",
      "align_content": null,
      "align_items": null,
      "align_self": null,
      "border": null,
      "bottom": null,
      "display": null,
      "flex": null,
      "flex_flow": null,
      "grid_area": null,
      "grid_auto_columns": null,
      "grid_auto_flow": null,
      "grid_auto_rows": null,
      "grid_column": null,
      "grid_gap": null,
      "grid_row": null,
      "grid_template_areas": null,
      "grid_template_columns": null,
      "grid_template_rows": null,
      "height": null,
      "justify_content": null,
      "justify_items": null,
      "left": null,
      "margin": null,
      "max_height": null,
      "max_width": null,
      "min_height": null,
      "min_width": null,
      "object_fit": null,
      "object_position": null,
      "order": null,
      "overflow": null,
      "overflow_x": null,
      "overflow_y": null,
      "padding": null,
      "right": null,
      "top": null,
      "visibility": null,
      "width": null
     }
    },
    "0b8ec7029a4841d3a7834cfc5e65ecd5": {
     "model_module": "@jupyter-widgets/controls",
     "model_module_version": "1.5.0",
     "model_name": "FloatProgressModel",
     "state": {
      "_dom_classes": [],
      "_model_module": "@jupyter-widgets/controls",
      "_model_module_version": "1.5.0",
      "_model_name": "FloatProgressModel",
      "_view_count": null,
      "_view_module": "@jupyter-widgets/controls",
      "_view_module_version": "1.5.0",
      "_view_name": "ProgressView",
      "bar_style": "success",
      "description": "",
      "description_tooltip": null,
      "layout": "IPY_MODEL_6d7ca213ed1344a79784b99a1027e5b8",
      "max": 1,
      "min": 0,
      "orientation": "horizontal",
      "style": "IPY_MODEL_8e72354facf446daa568d09c31a30c9d",
      "value": 1
     }
    },
    "0d104265103a4753bf1f4d7a1df3bb60": {
     "model_module": "@jupyter-widgets/base",
     "model_module_version": "1.2.0",
     "model_name": "LayoutModel",
     "state": {
      "_model_module": "@jupyter-widgets/base",
      "_model_module_version": "1.2.0",
      "_model_name": "LayoutModel",
      "_view_count": null,
      "_view_module": "@jupyter-widgets/base",
      "_view_module_version": "1.2.0",
      "_view_name": "LayoutView",
      "align_content": null,
      "align_items": null,
      "align_self": null,
      "border": null,
      "bottom": null,
      "display": null,
      "flex": null,
      "flex_flow": null,
      "grid_area": null,
      "grid_auto_columns": null,
      "grid_auto_flow": null,
      "grid_auto_rows": null,
      "grid_column": null,
      "grid_gap": null,
      "grid_row": null,
      "grid_template_areas": null,
      "grid_template_columns": null,
      "grid_template_rows": null,
      "height": null,
      "justify_content": null,
      "justify_items": null,
      "left": null,
      "margin": null,
      "max_height": null,
      "max_width": null,
      "min_height": null,
      "min_width": null,
      "object_fit": null,
      "object_position": null,
      "order": null,
      "overflow": null,
      "overflow_x": null,
      "overflow_y": null,
      "padding": null,
      "right": null,
      "top": null,
      "visibility": null,
      "width": null
     }
    },
    "17550f89ad9f41819d31bbe00df4a2ac": {
     "model_module": "@jupyter-widgets/base",
     "model_module_version": "1.2.0",
     "model_name": "LayoutModel",
     "state": {
      "_model_module": "@jupyter-widgets/base",
      "_model_module_version": "1.2.0",
      "_model_name": "LayoutModel",
      "_view_count": null,
      "_view_module": "@jupyter-widgets/base",
      "_view_module_version": "1.2.0",
      "_view_name": "LayoutView",
      "align_content": null,
      "align_items": null,
      "align_self": null,
      "border": null,
      "bottom": null,
      "display": null,
      "flex": null,
      "flex_flow": null,
      "grid_area": null,
      "grid_auto_columns": null,
      "grid_auto_flow": null,
      "grid_auto_rows": null,
      "grid_column": null,
      "grid_gap": null,
      "grid_row": null,
      "grid_template_areas": null,
      "grid_template_columns": null,
      "grid_template_rows": null,
      "height": null,
      "justify_content": null,
      "justify_items": null,
      "left": null,
      "margin": null,
      "max_height": null,
      "max_width": null,
      "min_height": null,
      "min_width": null,
      "object_fit": null,
      "object_position": null,
      "order": null,
      "overflow": null,
      "overflow_x": null,
      "overflow_y": null,
      "padding": null,
      "right": null,
      "top": null,
      "visibility": null,
      "width": null
     }
    },
    "18fe7640fb1340a09cd39b4f83262bea": {
     "model_module": "@jupyter-widgets/controls",
     "model_module_version": "1.5.0",
     "model_name": "HTMLModel",
     "state": {
      "_dom_classes": [],
      "_model_module": "@jupyter-widgets/controls",
      "_model_module_version": "1.5.0",
      "_model_name": "HTMLModel",
      "_view_count": null,
      "_view_module": "@jupyter-widgets/controls",
      "_view_module_version": "1.5.0",
      "_view_name": "HTMLView",
      "description": "",
      "description_tooltip": null,
      "layout": "IPY_MODEL_8841c7b143e54817b6d00b7a525f5e4c",
      "placeholder": "​",
      "style": "IPY_MODEL_08526008a0ce41c79fb582cb196008e4",
      "value": "model-00001-of-00002.safetensors:   9%"
     }
    },
    "1a4c74843b9b47c69519e93b794f7339": {
     "model_module": "@jupyter-widgets/controls",
     "model_module_version": "1.5.0",
     "model_name": "HTMLModel",
     "state": {
      "_dom_classes": [],
      "_model_module": "@jupyter-widgets/controls",
      "_model_module_version": "1.5.0",
      "_model_name": "HTMLModel",
      "_view_count": null,
      "_view_module": "@jupyter-widgets/controls",
      "_view_module_version": "1.5.0",
      "_view_name": "HTMLView",
      "description": "",
      "description_tooltip": null,
      "layout": "IPY_MODEL_02a22c294edc4322895f56ad8d109b44",
      "placeholder": "​",
      "style": "IPY_MODEL_c6e05e5fb9d24b428af0952fd39416b3",
      "value": " 55.4k/? [00:00&lt;00:00, 1.72MB/s]"
     }
    },
    "1ae6d5d234e24caabd7c513903b6129d": {
     "model_module": "@jupyter-widgets/base",
     "model_module_version": "1.2.0",
     "model_name": "LayoutModel",
     "state": {
      "_model_module": "@jupyter-widgets/base",
      "_model_module_version": "1.2.0",
      "_model_name": "LayoutModel",
      "_view_count": null,
      "_view_module": "@jupyter-widgets/base",
      "_view_module_version": "1.2.0",
      "_view_name": "LayoutView",
      "align_content": null,
      "align_items": null,
      "align_self": null,
      "border": null,
      "bottom": null,
      "display": null,
      "flex": null,
      "flex_flow": null,
      "grid_area": null,
      "grid_auto_columns": null,
      "grid_auto_flow": null,
      "grid_auto_rows": null,
      "grid_column": null,
      "grid_gap": null,
      "grid_row": null,
      "grid_template_areas": null,
      "grid_template_columns": null,
      "grid_template_rows": null,
      "height": null,
      "justify_content": null,
      "justify_items": null,
      "left": null,
      "margin": null,
      "max_height": null,
      "max_width": null,
      "min_height": null,
      "min_width": null,
      "object_fit": null,
      "object_position": null,
      "order": null,
      "overflow": null,
      "overflow_x": null,
      "overflow_y": null,
      "padding": null,
      "right": null,
      "top": null,
      "visibility": null,
      "width": null
     }
    },
    "1bd941b5513e468ebbb436803498e720": {
     "model_module": "@jupyter-widgets/base",
     "model_module_version": "1.2.0",
     "model_name": "LayoutModel",
     "state": {
      "_model_module": "@jupyter-widgets/base",
      "_model_module_version": "1.2.0",
      "_model_name": "LayoutModel",
      "_view_count": null,
      "_view_module": "@jupyter-widgets/base",
      "_view_module_version": "1.2.0",
      "_view_name": "LayoutView",
      "align_content": null,
      "align_items": null,
      "align_self": null,
      "border": null,
      "bottom": null,
      "display": null,
      "flex": null,
      "flex_flow": null,
      "grid_area": null,
      "grid_auto_columns": null,
      "grid_auto_flow": null,
      "grid_auto_rows": null,
      "grid_column": null,
      "grid_gap": null,
      "grid_row": null,
      "grid_template_areas": null,
      "grid_template_columns": null,
      "grid_template_rows": null,
      "height": null,
      "justify_content": null,
      "justify_items": null,
      "left": null,
      "margin": null,
      "max_height": null,
      "max_width": null,
      "min_height": null,
      "min_width": null,
      "object_fit": null,
      "object_position": null,
      "order": null,
      "overflow": null,
      "overflow_x": null,
      "overflow_y": null,
      "padding": null,
      "right": null,
      "top": null,
      "visibility": null,
      "width": null
     }
    },
    "1c61b1f7f33043d3be49d0b1b4ded362": {
     "model_module": "@jupyter-widgets/controls",
     "model_module_version": "1.5.0",
     "model_name": "FloatProgressModel",
     "state": {
      "_dom_classes": [],
      "_model_module": "@jupyter-widgets/controls",
      "_model_module_version": "1.5.0",
      "_model_name": "FloatProgressModel",
      "_view_count": null,
      "_view_module": "@jupyter-widgets/controls",
      "_view_module_version": "1.5.0",
      "_view_name": "ProgressView",
      "bar_style": "success",
      "description": "",
      "description_tooltip": null,
      "layout": "IPY_MODEL_9e4f386a46bc4be28cbf62be52c294e7",
      "max": 454,
      "min": 0,
      "orientation": "horizontal",
      "style": "IPY_MODEL_f839a64e2fdb47eda34799119e0ed871",
      "value": 454
     }
    },
    "1edfef73272a41d8814ea517499fb0f4": {
     "model_module": "@jupyter-widgets/base",
     "model_module_version": "1.2.0",
     "model_name": "LayoutModel",
     "state": {
      "_model_module": "@jupyter-widgets/base",
      "_model_module_version": "1.2.0",
      "_model_name": "LayoutModel",
      "_view_count": null,
      "_view_module": "@jupyter-widgets/base",
      "_view_module_version": "1.2.0",
      "_view_name": "LayoutView",
      "align_content": null,
      "align_items": null,
      "align_self": null,
      "border": null,
      "bottom": null,
      "display": null,
      "flex": null,
      "flex_flow": null,
      "grid_area": null,
      "grid_auto_columns": null,
      "grid_auto_flow": null,
      "grid_auto_rows": null,
      "grid_column": null,
      "grid_gap": null,
      "grid_row": null,
      "grid_template_areas": null,
      "grid_template_columns": null,
      "grid_template_rows": null,
      "height": null,
      "justify_content": null,
      "justify_items": null,
      "left": null,
      "margin": null,
      "max_height": null,
      "max_width": null,
      "min_height": null,
      "min_width": null,
      "object_fit": null,
      "object_position": null,
      "order": null,
      "overflow": null,
      "overflow_x": null,
      "overflow_y": null,
      "padding": null,
      "right": null,
      "top": null,
      "visibility": null,
      "width": "20px"
     }
    },
    "21c5b958373f43f2ae5ea9e88bb5ad3e": {
     "model_module": "@jupyter-widgets/base",
     "model_module_version": "1.2.0",
     "model_name": "LayoutModel",
     "state": {
      "_model_module": "@jupyter-widgets/base",
      "_model_module_version": "1.2.0",
      "_model_name": "LayoutModel",
      "_view_count": null,
      "_view_module": "@jupyter-widgets/base",
      "_view_module_version": "1.2.0",
      "_view_name": "LayoutView",
      "align_content": null,
      "align_items": null,
      "align_self": null,
      "border": null,
      "bottom": null,
      "display": null,
      "flex": null,
      "flex_flow": null,
      "grid_area": null,
      "grid_auto_columns": null,
      "grid_auto_flow": null,
      "grid_auto_rows": null,
      "grid_column": null,
      "grid_gap": null,
      "grid_row": null,
      "grid_template_areas": null,
      "grid_template_columns": null,
      "grid_template_rows": null,
      "height": null,
      "justify_content": null,
      "justify_items": null,
      "left": null,
      "margin": null,
      "max_height": null,
      "max_width": null,
      "min_height": null,
      "min_width": null,
      "object_fit": null,
      "object_position": null,
      "order": null,
      "overflow": null,
      "overflow_x": null,
      "overflow_y": null,
      "padding": null,
      "right": null,
      "top": null,
      "visibility": null,
      "width": null
     }
    },
    "22ba7718d02a497b8c9a1418559ebead": {
     "model_module": "@jupyter-widgets/controls",
     "model_module_version": "1.5.0",
     "model_name": "ProgressStyleModel",
     "state": {
      "_model_module": "@jupyter-widgets/controls",
      "_model_module_version": "1.5.0",
      "_model_name": "ProgressStyleModel",
      "_view_count": null,
      "_view_module": "@jupyter-widgets/base",
      "_view_module_version": "1.2.0",
      "_view_name": "StyleView",
      "bar_color": null,
      "description_width": ""
     }
    },
    "24a8899047354f9fb29548cc45f43adb": {
     "model_module": "@jupyter-widgets/base",
     "model_module_version": "1.2.0",
     "model_name": "LayoutModel",
     "state": {
      "_model_module": "@jupyter-widgets/base",
      "_model_module_version": "1.2.0",
      "_model_name": "LayoutModel",
      "_view_count": null,
      "_view_module": "@jupyter-widgets/base",
      "_view_module_version": "1.2.0",
      "_view_name": "LayoutView",
      "align_content": null,
      "align_items": null,
      "align_self": null,
      "border": null,
      "bottom": null,
      "display": null,
      "flex": null,
      "flex_flow": null,
      "grid_area": null,
      "grid_auto_columns": null,
      "grid_auto_flow": null,
      "grid_auto_rows": null,
      "grid_column": null,
      "grid_gap": null,
      "grid_row": null,
      "grid_template_areas": null,
      "grid_template_columns": null,
      "grid_template_rows": null,
      "height": null,
      "justify_content": null,
      "justify_items": null,
      "left": null,
      "margin": null,
      "max_height": null,
      "max_width": null,
      "min_height": null,
      "min_width": null,
      "object_fit": null,
      "object_position": null,
      "order": null,
      "overflow": null,
      "overflow_x": null,
      "overflow_y": null,
      "padding": null,
      "right": null,
      "top": null,
      "visibility": null,
      "width": null
     }
    },
    "252a2c368ceb4f4c800b1cb5907e8a23": {
     "model_module": "@jupyter-widgets/controls",
     "model_module_version": "1.5.0",
     "model_name": "DescriptionStyleModel",
     "state": {
      "_model_module": "@jupyter-widgets/controls",
      "_model_module_version": "1.5.0",
      "_model_name": "DescriptionStyleModel",
      "_view_count": null,
      "_view_module": "@jupyter-widgets/base",
      "_view_module_version": "1.2.0",
      "_view_name": "StyleView",
      "description_width": ""
     }
    },
    "2c96e2efdb4349aca098a446a0b0c40f": {
     "model_module": "@jupyter-widgets/controls",
     "model_module_version": "1.5.0",
     "model_name": "FloatProgressModel",
     "state": {
      "_dom_classes": [],
      "_model_module": "@jupyter-widgets/controls",
      "_model_module_version": "1.5.0",
      "_model_name": "FloatProgressModel",
      "_view_count": null,
      "_view_module": "@jupyter-widgets/controls",
      "_view_module_version": "1.5.0",
      "_view_name": "ProgressView",
      "bar_style": "success",
      "description": "",
      "description_tooltip": null,
      "layout": "IPY_MODEL_77d6064692ef468893b7e606e3649f50",
      "max": 17209920,
      "min": 0,
      "orientation": "horizontal",
      "style": "IPY_MODEL_9cea37b102dd4a53ba5a579982324e68",
      "value": 17209920
     }
    },
    "2d5d0c524f8a46388b120c44eacca6f5": {
     "model_module": "@jupyter-widgets/base",
     "model_module_version": "1.2.0",
     "model_name": "LayoutModel",
     "state": {
      "_model_module": "@jupyter-widgets/base",
      "_model_module_version": "1.2.0",
      "_model_name": "LayoutModel",
      "_view_count": null,
      "_view_module": "@jupyter-widgets/base",
      "_view_module_version": "1.2.0",
      "_view_name": "LayoutView",
      "align_content": null,
      "align_items": null,
      "align_self": null,
      "border": null,
      "bottom": null,
      "display": null,
      "flex": null,
      "flex_flow": null,
      "grid_area": null,
      "grid_auto_columns": null,
      "grid_auto_flow": null,
      "grid_auto_rows": null,
      "grid_column": null,
      "grid_gap": null,
      "grid_row": null,
      "grid_template_areas": null,
      "grid_template_columns": null,
      "grid_template_rows": null,
      "height": null,
      "justify_content": null,
      "justify_items": null,
      "left": null,
      "margin": null,
      "max_height": null,
      "max_width": null,
      "min_height": null,
      "min_width": null,
      "object_fit": null,
      "object_position": null,
      "order": null,
      "overflow": null,
      "overflow_x": null,
      "overflow_y": null,
      "padding": null,
      "right": null,
      "top": null,
      "visibility": null,
      "width": null
     }
    },
    "2f0435e46b3347d59e59efc34e8f9ab6": {
     "model_module": "@jupyter-widgets/base",
     "model_module_version": "1.2.0",
     "model_name": "LayoutModel",
     "state": {
      "_model_module": "@jupyter-widgets/base",
      "_model_module_version": "1.2.0",
      "_model_name": "LayoutModel",
      "_view_count": null,
      "_view_module": "@jupyter-widgets/base",
      "_view_module_version": "1.2.0",
      "_view_name": "LayoutView",
      "align_content": null,
      "align_items": null,
      "align_self": null,
      "border": null,
      "bottom": null,
      "display": null,
      "flex": null,
      "flex_flow": null,
      "grid_area": null,
      "grid_auto_columns": null,
      "grid_auto_flow": null,
      "grid_auto_rows": null,
      "grid_column": null,
      "grid_gap": null,
      "grid_row": null,
      "grid_template_areas": null,
      "grid_template_columns": null,
      "grid_template_rows": null,
      "height": null,
      "justify_content": null,
      "justify_items": null,
      "left": null,
      "margin": null,
      "max_height": null,
      "max_width": null,
      "min_height": null,
      "min_width": null,
      "object_fit": null,
      "object_position": null,
      "order": null,
      "overflow": null,
      "overflow_x": null,
      "overflow_y": null,
      "padding": null,
      "right": null,
      "top": null,
      "visibility": null,
      "width": null
     }
    },
    "30c1103ca1dd414c8e035958ff18dd0b": {
     "model_module": "@jupyter-widgets/controls",
     "model_module_version": "1.5.0",
     "model_name": "DescriptionStyleModel",
     "state": {
      "_model_module": "@jupyter-widgets/controls",
      "_model_module_version": "1.5.0",
      "_model_name": "DescriptionStyleModel",
      "_view_count": null,
      "_view_module": "@jupyter-widgets/base",
      "_view_module_version": "1.2.0",
      "_view_name": "StyleView",
      "description_width": ""
     }
    },
    "310cad4b2e8f49748ea8a9c7c57113cf": {
     "model_module": "@jupyter-widgets/controls",
     "model_module_version": "1.5.0",
     "model_name": "ProgressStyleModel",
     "state": {
      "_model_module": "@jupyter-widgets/controls",
      "_model_module_version": "1.5.0",
      "_model_name": "ProgressStyleModel",
      "_view_count": null,
      "_view_module": "@jupyter-widgets/base",
      "_view_module_version": "1.2.0",
      "_view_name": "StyleView",
      "bar_color": null,
      "description_width": ""
     }
    },
    "322f311e312440e6a412d8338a90d352": {
     "model_module": "@jupyter-widgets/base",
     "model_module_version": "1.2.0",
     "model_name": "LayoutModel",
     "state": {
      "_model_module": "@jupyter-widgets/base",
      "_model_module_version": "1.2.0",
      "_model_name": "LayoutModel",
      "_view_count": null,
      "_view_module": "@jupyter-widgets/base",
      "_view_module_version": "1.2.0",
      "_view_name": "LayoutView",
      "align_content": null,
      "align_items": null,
      "align_self": null,
      "border": null,
      "bottom": null,
      "display": null,
      "flex": null,
      "flex_flow": null,
      "grid_area": null,
      "grid_auto_columns": null,
      "grid_auto_flow": null,
      "grid_auto_rows": null,
      "grid_column": null,
      "grid_gap": null,
      "grid_row": null,
      "grid_template_areas": null,
      "grid_template_columns": null,
      "grid_template_rows": null,
      "height": null,
      "justify_content": null,
      "justify_items": null,
      "left": null,
      "margin": null,
      "max_height": null,
      "max_width": null,
      "min_height": null,
      "min_width": null,
      "object_fit": null,
      "object_position": null,
      "order": null,
      "overflow": null,
      "overflow_x": null,
      "overflow_y": null,
      "padding": null,
      "right": null,
      "top": null,
      "visibility": null,
      "width": null
     }
    },
    "3827b5c56942499a9d9504ae0a4c1aff": {
     "model_module": "@jupyter-widgets/base",
     "model_module_version": "1.2.0",
     "model_name": "LayoutModel",
     "state": {
      "_model_module": "@jupyter-widgets/base",
      "_model_module_version": "1.2.0",
      "_model_name": "LayoutModel",
      "_view_count": null,
      "_view_module": "@jupyter-widgets/base",
      "_view_module_version": "1.2.0",
      "_view_name": "LayoutView",
      "align_content": null,
      "align_items": null,
      "align_self": null,
      "border": null,
      "bottom": null,
      "display": null,
      "flex": null,
      "flex_flow": null,
      "grid_area": null,
      "grid_auto_columns": null,
      "grid_auto_flow": null,
      "grid_auto_rows": null,
      "grid_column": null,
      "grid_gap": null,
      "grid_row": null,
      "grid_template_areas": null,
      "grid_template_columns": null,
      "grid_template_rows": null,
      "height": null,
      "justify_content": null,
      "justify_items": null,
      "left": null,
      "margin": null,
      "max_height": null,
      "max_width": null,
      "min_height": null,
      "min_width": null,
      "object_fit": null,
      "object_position": null,
      "order": null,
      "overflow": null,
      "overflow_x": null,
      "overflow_y": null,
      "padding": null,
      "right": null,
      "top": null,
      "visibility": null,
      "width": null
     }
    },
    "386599f79f0f4e0297ab8141fa8e97df": {
     "model_module": "@jupyter-widgets/controls",
     "model_module_version": "1.5.0",
     "model_name": "DescriptionStyleModel",
     "state": {
      "_model_module": "@jupyter-widgets/controls",
      "_model_module_version": "1.5.0",
      "_model_name": "DescriptionStyleModel",
      "_view_count": null,
      "_view_module": "@jupyter-widgets/base",
      "_view_module_version": "1.2.0",
      "_view_name": "StyleView",
      "description_width": ""
     }
    },
    "38cdb19e27e840be8ae64c7201495e40": {
     "model_module": "@jupyter-widgets/base",
     "model_module_version": "1.2.0",
     "model_name": "LayoutModel",
     "state": {
      "_model_module": "@jupyter-widgets/base",
      "_model_module_version": "1.2.0",
      "_model_name": "LayoutModel",
      "_view_count": null,
      "_view_module": "@jupyter-widgets/base",
      "_view_module_version": "1.2.0",
      "_view_name": "LayoutView",
      "align_content": null,
      "align_items": null,
      "align_self": null,
      "border": null,
      "bottom": null,
      "display": null,
      "flex": null,
      "flex_flow": null,
      "grid_area": null,
      "grid_auto_columns": null,
      "grid_auto_flow": null,
      "grid_auto_rows": null,
      "grid_column": null,
      "grid_gap": null,
      "grid_row": null,
      "grid_template_areas": null,
      "grid_template_columns": null,
      "grid_template_rows": null,
      "height": null,
      "justify_content": null,
      "justify_items": null,
      "left": null,
      "margin": null,
      "max_height": null,
      "max_width": null,
      "min_height": null,
      "min_width": null,
      "object_fit": null,
      "object_position": null,
      "order": null,
      "overflow": null,
      "overflow_x": null,
      "overflow_y": null,
      "padding": null,
      "right": null,
      "top": null,
      "visibility": null,
      "width": null
     }
    },
    "3b458dfdb1a9403ea223da0cad874a57": {
     "model_module": "@jupyter-widgets/base",
     "model_module_version": "1.2.0",
     "model_name": "LayoutModel",
     "state": {
      "_model_module": "@jupyter-widgets/base",
      "_model_module_version": "1.2.0",
      "_model_name": "LayoutModel",
      "_view_count": null,
      "_view_module": "@jupyter-widgets/base",
      "_view_module_version": "1.2.0",
      "_view_name": "LayoutView",
      "align_content": null,
      "align_items": null,
      "align_self": null,
      "border": null,
      "bottom": null,
      "display": null,
      "flex": null,
      "flex_flow": null,
      "grid_area": null,
      "grid_auto_columns": null,
      "grid_auto_flow": null,
      "grid_auto_rows": null,
      "grid_column": null,
      "grid_gap": null,
      "grid_row": null,
      "grid_template_areas": null,
      "grid_template_columns": null,
      "grid_template_rows": null,
      "height": null,
      "justify_content": null,
      "justify_items": null,
      "left": null,
      "margin": null,
      "max_height": null,
      "max_width": null,
      "min_height": null,
      "min_width": null,
      "object_fit": null,
      "object_position": null,
      "order": null,
      "overflow": null,
      "overflow_x": null,
      "overflow_y": null,
      "padding": null,
      "right": null,
      "top": null,
      "visibility": null,
      "width": null
     }
    },
    "3da7448f142743438df84aeacd3ed0f0": {
     "model_module": "@jupyter-widgets/controls",
     "model_module_version": "1.5.0",
     "model_name": "FloatProgressModel",
     "state": {
      "_dom_classes": [],
      "_model_module": "@jupyter-widgets/controls",
      "_model_module_version": "1.5.0",
      "_model_name": "FloatProgressModel",
      "_view_count": null,
      "_view_module": "@jupyter-widgets/controls",
      "_view_module_version": "1.5.0",
      "_view_name": "ProgressView",
      "bar_style": "",
      "description": "",
      "description_tooltip": null,
      "layout": "IPY_MODEL_8bb4cc6407e64d2190e2da2976ffc0e1",
      "max": 4965799096,
      "min": 0,
      "orientation": "horizontal",
      "style": "IPY_MODEL_310cad4b2e8f49748ea8a9c7c57113cf",
      "value": 471636401
     }
    },
    "4000e527ccfa4babb700f4c81a1c41bf": {
     "model_module": "@jupyter-widgets/controls",
     "model_module_version": "1.5.0",
     "model_name": "HBoxModel",
     "state": {
      "_dom_classes": [],
      "_model_module": "@jupyter-widgets/controls",
      "_model_module_version": "1.5.0",
      "_model_name": "HBoxModel",
      "_view_count": null,
      "_view_module": "@jupyter-widgets/controls",
      "_view_module_version": "1.5.0",
      "_view_name": "HBoxView",
      "box_style": "",
      "children": [
       "IPY_MODEL_e7ac1662441c41229c647abbc26f4716",
       "IPY_MODEL_b50d8fdfe944445d84cbc4dd261109e8",
       "IPY_MODEL_0454268ca45046fd9b38e59c480beec4"
      ],
      "layout": "IPY_MODEL_1bd941b5513e468ebbb436803498e720"
     }
    },
    "4352758dcd314c8ab213dfb67a9ec084": {
     "model_module": "@jupyter-widgets/controls",
     "model_module_version": "1.5.0",
     "model_name": "DescriptionStyleModel",
     "state": {
      "_model_module": "@jupyter-widgets/controls",
      "_model_module_version": "1.5.0",
      "_model_name": "DescriptionStyleModel",
      "_view_count": null,
      "_view_module": "@jupyter-widgets/base",
      "_view_module_version": "1.2.0",
      "_view_name": "StyleView",
      "description_width": ""
     }
    },
    "43739554ca53468e9755105253ea08a3": {
     "model_module": "@jupyter-widgets/controls",
     "model_module_version": "1.5.0",
     "model_name": "HTMLModel",
     "state": {
      "_dom_classes": [],
      "_model_module": "@jupyter-widgets/controls",
      "_model_module_version": "1.5.0",
      "_model_name": "HTMLModel",
      "_view_count": null,
      "_view_module": "@jupyter-widgets/controls",
      "_view_module_version": "1.5.0",
      "_view_name": "HTMLView",
      "description": "",
      "description_tooltip": null,
      "layout": "IPY_MODEL_4599abacd48446658d8d364dba42c614",
      "placeholder": "​",
      "style": "IPY_MODEL_fd4d645dc4304fbd95b4081288e77a03",
      "value": " 454/454 [00:00&lt;00:00, 43.8kB/s]"
     }
    },
    "4462758468034fd6815a09898409f520": {
     "model_module": "@jupyter-widgets/controls",
     "model_module_version": "1.5.0",
     "model_name": "ProgressStyleModel",
     "state": {
      "_model_module": "@jupyter-widgets/controls",
      "_model_module_version": "1.5.0",
      "_model_name": "ProgressStyleModel",
      "_view_count": null,
      "_view_module": "@jupyter-widgets/base",
      "_view_module_version": "1.2.0",
      "_view_name": "StyleView",
      "bar_color": null,
      "description_width": ""
     }
    },
    "4599abacd48446658d8d364dba42c614": {
     "model_module": "@jupyter-widgets/base",
     "model_module_version": "1.2.0",
     "model_name": "LayoutModel",
     "state": {
      "_model_module": "@jupyter-widgets/base",
      "_model_module_version": "1.2.0",
      "_model_name": "LayoutModel",
      "_view_count": null,
      "_view_module": "@jupyter-widgets/base",
      "_view_module_version": "1.2.0",
      "_view_name": "LayoutView",
      "align_content": null,
      "align_items": null,
      "align_self": null,
      "border": null,
      "bottom": null,
      "display": null,
      "flex": null,
      "flex_flow": null,
      "grid_area": null,
      "grid_auto_columns": null,
      "grid_auto_flow": null,
      "grid_auto_rows": null,
      "grid_column": null,
      "grid_gap": null,
      "grid_row": null,
      "grid_template_areas": null,
      "grid_template_columns": null,
      "grid_template_rows": null,
      "height": null,
      "justify_content": null,
      "justify_items": null,
      "left": null,
      "margin": null,
      "max_height": null,
      "max_width": null,
      "min_height": null,
      "min_width": null,
      "object_fit": null,
      "object_position": null,
      "order": null,
      "overflow": null,
      "overflow_x": null,
      "overflow_y": null,
      "padding": null,
      "right": null,
      "top": null,
      "visibility": null,
      "width": null
     }
    },
    "459b0c034f734379ad9822bfec639b9f": {
     "model_module": "@jupyter-widgets/controls",
     "model_module_version": "1.5.0",
     "model_name": "DescriptionStyleModel",
     "state": {
      "_model_module": "@jupyter-widgets/controls",
      "_model_module_version": "1.5.0",
      "_model_name": "DescriptionStyleModel",
      "_view_count": null,
      "_view_module": "@jupyter-widgets/base",
      "_view_module_version": "1.2.0",
      "_view_name": "StyleView",
      "description_width": ""
     }
    },
    "45af4d649a014ad8aced1ed43c9257b7": {
     "model_module": "@jupyter-widgets/controls",
     "model_module_version": "1.5.0",
     "model_name": "HTMLModel",
     "state": {
      "_dom_classes": [],
      "_model_module": "@jupyter-widgets/controls",
      "_model_module_version": "1.5.0",
      "_model_name": "HTMLModel",
      "_view_count": null,
      "_view_module": "@jupyter-widgets/controls",
      "_view_module_version": "1.5.0",
      "_view_name": "HTMLView",
      "description": "",
      "description_tooltip": null,
      "layout": "IPY_MODEL_38cdb19e27e840be8ae64c7201495e40",
      "placeholder": "​",
      "style": "IPY_MODEL_459b0c034f734379ad9822bfec639b9f",
      "value": " 0/2 [00:00&lt;?, ?it/s]"
     }
    },
    "4cb16753211f4fcea386327bd16c79a8": {
     "model_module": "@jupyter-widgets/controls",
     "model_module_version": "1.5.0",
     "model_name": "FloatProgressModel",
     "state": {
      "_dom_classes": [],
      "_model_module": "@jupyter-widgets/controls",
      "_model_module_version": "1.5.0",
      "_model_name": "FloatProgressModel",
      "_view_count": null,
      "_view_module": "@jupyter-widgets/controls",
      "_view_module_version": "1.5.0",
      "_view_name": "ProgressView",
      "bar_style": "success",
      "description": "",
      "description_tooltip": null,
      "layout": "IPY_MODEL_6f888519cc6c4fdeb278f2bf7ca7e36d",
      "max": 454,
      "min": 0,
      "orientation": "horizontal",
      "style": "IPY_MODEL_4cf86e94d31446a4a47dc76e99cea62e",
      "value": 454
     }
    },
    "4cf86e94d31446a4a47dc76e99cea62e": {
     "model_module": "@jupyter-widgets/controls",
     "model_module_version": "1.5.0",
     "model_name": "ProgressStyleModel",
     "state": {
      "_model_module": "@jupyter-widgets/controls",
      "_model_module_version": "1.5.0",
      "_model_name": "ProgressStyleModel",
      "_view_count": null,
      "_view_module": "@jupyter-widgets/base",
      "_view_module_version": "1.2.0",
      "_view_name": "StyleView",
      "bar_color": null,
      "description_width": ""
     }
    },
    "4d44d0ae43cd46409789583a2dbe2b29": {
     "model_module": "@jupyter-widgets/controls",
     "model_module_version": "1.5.0",
     "model_name": "DescriptionStyleModel",
     "state": {
      "_model_module": "@jupyter-widgets/controls",
      "_model_module_version": "1.5.0",
      "_model_name": "DescriptionStyleModel",
      "_view_count": null,
      "_view_module": "@jupyter-widgets/base",
      "_view_module_version": "1.2.0",
      "_view_name": "StyleView",
      "description_width": ""
     }
    },
    "500be9abe3274df686ac725387edde18": {
     "model_module": "@jupyter-widgets/controls",
     "model_module_version": "1.5.0",
     "model_name": "DescriptionStyleModel",
     "state": {
      "_model_module": "@jupyter-widgets/controls",
      "_model_module_version": "1.5.0",
      "_model_name": "DescriptionStyleModel",
      "_view_count": null,
      "_view_module": "@jupyter-widgets/base",
      "_view_module_version": "1.2.0",
      "_view_name": "StyleView",
      "description_width": ""
     }
    },
    "5268e169d1514b09b449776036ec6f13": {
     "model_module": "@jupyter-widgets/controls",
     "model_module_version": "1.5.0",
     "model_name": "ProgressStyleModel",
     "state": {
      "_model_module": "@jupyter-widgets/controls",
      "_model_module_version": "1.5.0",
      "_model_name": "ProgressStyleModel",
      "_view_count": null,
      "_view_module": "@jupyter-widgets/base",
      "_view_module_version": "1.2.0",
      "_view_name": "StyleView",
      "bar_color": null,
      "description_width": ""
     }
    },
    "532c44b13bdb4593a8e98c54e08e8880": {
     "model_module": "@jupyter-widgets/controls",
     "model_module_version": "1.5.0",
     "model_name": "HBoxModel",
     "state": {
      "_dom_classes": [],
      "_model_module": "@jupyter-widgets/controls",
      "_model_module_version": "1.5.0",
      "_model_name": "HBoxModel",
      "_view_count": null,
      "_view_module": "@jupyter-widgets/controls",
      "_view_module_version": "1.5.0",
      "_view_name": "HBoxView",
      "box_style": "",
      "children": [
       "IPY_MODEL_b4010ebbe6c44ed68db33c16fec09890",
       "IPY_MODEL_0b8ec7029a4841d3a7834cfc5e65ecd5",
       "IPY_MODEL_d41380a83a8940afa93a0e708c57e9a0"
      ],
      "layout": "IPY_MODEL_846140287e674ccf8be62dc00302f0f2"
     }
    },
    "53f5aa27ef6d4a339b9493195a48465d": {
     "model_module": "@jupyter-widgets/controls",
     "model_module_version": "1.5.0",
     "model_name": "HTMLModel",
     "state": {
      "_dom_classes": [],
      "_model_module": "@jupyter-widgets/controls",
      "_model_module_version": "1.5.0",
      "_model_name": "HTMLModel",
      "_view_count": null,
      "_view_module": "@jupyter-widgets/controls",
      "_view_module_version": "1.5.0",
      "_view_name": "HTMLView",
      "description": "",
      "description_tooltip": null,
      "layout": "IPY_MODEL_c56a1fd264544d598c968aa59eae6d82",
      "placeholder": "​",
      "style": "IPY_MODEL_500be9abe3274df686ac725387edde18",
      "value": "chat_template.jinja: "
     }
    },
    "54557c2d0208412cad98909a7df3ed44": {
     "model_module": "@jupyter-widgets/controls",
     "model_module_version": "1.5.0",
     "model_name": "HTMLModel",
     "state": {
      "_dom_classes": [],
      "_model_module": "@jupyter-widgets/controls",
      "_model_module_version": "1.5.0",
      "_model_name": "HTMLModel",
      "_view_count": null,
      "_view_module": "@jupyter-widgets/controls",
      "_view_module_version": "1.5.0",
      "_view_name": "HTMLView",
      "description": "",
      "description_tooltip": null,
      "layout": "IPY_MODEL_cff746d7ec024e6792bd2e7f8e1c6f1d",
      "placeholder": "​",
      "style": "IPY_MODEL_05a6bec2ec44405c8b5f6c12b200e3b9",
      "value": "tokenizer.json: 100%"
     }
    },
    "56b2e1d667ac4d32809b6a6aa2bc4ca6": {
     "model_module": "@jupyter-widgets/base",
     "model_module_version": "1.2.0",
     "model_name": "LayoutModel",
     "state": {
      "_model_module": "@jupyter-widgets/base",
      "_model_module_version": "1.2.0",
      "_model_name": "LayoutModel",
      "_view_count": null,
      "_view_module": "@jupyter-widgets/base",
      "_view_module_version": "1.2.0",
      "_view_name": "LayoutView",
      "align_content": null,
      "align_items": null,
      "align_self": null,
      "border": null,
      "bottom": null,
      "display": null,
      "flex": null,
      "flex_flow": null,
      "grid_area": null,
      "grid_auto_columns": null,
      "grid_auto_flow": null,
      "grid_auto_rows": null,
      "grid_column": null,
      "grid_gap": null,
      "grid_row": null,
      "grid_template_areas": null,
      "grid_template_columns": null,
      "grid_template_rows": null,
      "height": null,
      "justify_content": null,
      "justify_items": null,
      "left": null,
      "margin": null,
      "max_height": null,
      "max_width": null,
      "min_height": null,
      "min_width": null,
      "object_fit": null,
      "object_position": null,
      "order": null,
      "overflow": null,
      "overflow_x": null,
      "overflow_y": null,
      "padding": null,
      "right": null,
      "top": null,
      "visibility": null,
      "width": null
     }
    },
    "58f61b7dcee54514beb3502842ea7b3e": {
     "model_module": "@jupyter-widgets/base",
     "model_module_version": "1.2.0",
     "model_name": "LayoutModel",
     "state": {
      "_model_module": "@jupyter-widgets/base",
      "_model_module_version": "1.2.0",
      "_model_name": "LayoutModel",
      "_view_count": null,
      "_view_module": "@jupyter-widgets/base",
      "_view_module_version": "1.2.0",
      "_view_name": "LayoutView",
      "align_content": null,
      "align_items": null,
      "align_self": null,
      "border": null,
      "bottom": null,
      "display": null,
      "flex": null,
      "flex_flow": null,
      "grid_area": null,
      "grid_auto_columns": null,
      "grid_auto_flow": null,
      "grid_auto_rows": null,
      "grid_column": null,
      "grid_gap": null,
      "grid_row": null,
      "grid_template_areas": null,
      "grid_template_columns": null,
      "grid_template_rows": null,
      "height": null,
      "justify_content": null,
      "justify_items": null,
      "left": null,
      "margin": null,
      "max_height": null,
      "max_width": null,
      "min_height": null,
      "min_width": null,
      "object_fit": null,
      "object_position": null,
      "order": null,
      "overflow": null,
      "overflow_x": null,
      "overflow_y": null,
      "padding": null,
      "right": null,
      "top": null,
      "visibility": null,
      "width": null
     }
    },
    "599a7030b30a41b3b384cfe00624a730": {
     "model_module": "@jupyter-widgets/controls",
     "model_module_version": "1.5.0",
     "model_name": "DescriptionStyleModel",
     "state": {
      "_model_module": "@jupyter-widgets/controls",
      "_model_module_version": "1.5.0",
      "_model_name": "DescriptionStyleModel",
      "_view_count": null,
      "_view_module": "@jupyter-widgets/base",
      "_view_module_version": "1.2.0",
      "_view_name": "StyleView",
      "description_width": ""
     }
    },
    "5b9e2b4f761c4854893196985760f3f7": {
     "model_module": "@jupyter-widgets/controls",
     "model_module_version": "1.5.0",
     "model_name": "ProgressStyleModel",
     "state": {
      "_model_module": "@jupyter-widgets/controls",
      "_model_module_version": "1.5.0",
      "_model_name": "ProgressStyleModel",
      "_view_count": null,
      "_view_module": "@jupyter-widgets/base",
      "_view_module_version": "1.2.0",
      "_view_name": "StyleView",
      "bar_color": null,
      "description_width": ""
     }
    },
    "5e0ef6d4f1894159ac1ec5e93a9e8b59": {
     "model_module": "@jupyter-widgets/controls",
     "model_module_version": "1.5.0",
     "model_name": "HTMLModel",
     "state": {
      "_dom_classes": [],
      "_model_module": "@jupyter-widgets/controls",
      "_model_module_version": "1.5.0",
      "_model_name": "HTMLModel",
      "_view_count": null,
      "_view_module": "@jupyter-widgets/controls",
      "_view_module_version": "1.5.0",
      "_view_name": "HTMLView",
      "description": "",
      "description_tooltip": null,
      "layout": "IPY_MODEL_322f311e312440e6a412d8338a90d352",
      "placeholder": "​",
      "style": "IPY_MODEL_386599f79f0f4e0297ab8141fa8e97df",
      "value": "tokenizer_config.json: "
     }
    },
    "61d491cf9c2a4d1ca12bfaf638a7590c": {
     "model_module": "@jupyter-widgets/controls",
     "model_module_version": "1.5.0",
     "model_name": "HBoxModel",
     "state": {
      "_dom_classes": [],
      "_model_module": "@jupyter-widgets/controls",
      "_model_module_version": "1.5.0",
      "_model_name": "HBoxModel",
      "_view_count": null,
      "_view_module": "@jupyter-widgets/controls",
      "_view_module_version": "1.5.0",
      "_view_name": "HBoxView",
      "box_style": "",
      "children": [
       "IPY_MODEL_f897a213b7954bd7a4270dfedd2db719",
       "IPY_MODEL_1c61b1f7f33043d3be49d0b1b4ded362",
       "IPY_MODEL_43739554ca53468e9755105253ea08a3"
      ],
      "layout": "IPY_MODEL_0b6009b5b3d048b5b5f8bd27823add8c"
     }
    },
    "681d00be036a4dc3bac7359b7363e96a": {
     "model_module": "@jupyter-widgets/controls",
     "model_module_version": "1.5.0",
     "model_name": "DescriptionStyleModel",
     "state": {
      "_model_module": "@jupyter-widgets/controls",
      "_model_module_version": "1.5.0",
      "_model_name": "DescriptionStyleModel",
      "_view_count": null,
      "_view_module": "@jupyter-widgets/base",
      "_view_module_version": "1.2.0",
      "_view_name": "StyleView",
      "description_width": ""
     }
    },
    "68ac573982bb4901888ed3d4edc0aa97": {
     "model_module": "@jupyter-widgets/base",
     "model_module_version": "1.2.0",
     "model_name": "LayoutModel",
     "state": {
      "_model_module": "@jupyter-widgets/base",
      "_model_module_version": "1.2.0",
      "_model_name": "LayoutModel",
      "_view_count": null,
      "_view_module": "@jupyter-widgets/base",
      "_view_module_version": "1.2.0",
      "_view_name": "LayoutView",
      "align_content": null,
      "align_items": null,
      "align_self": null,
      "border": null,
      "bottom": null,
      "display": null,
      "flex": null,
      "flex_flow": null,
      "grid_area": null,
      "grid_auto_columns": null,
      "grid_auto_flow": null,
      "grid_auto_rows": null,
      "grid_column": null,
      "grid_gap": null,
      "grid_row": null,
      "grid_template_areas": null,
      "grid_template_columns": null,
      "grid_template_rows": null,
      "height": null,
      "justify_content": null,
      "justify_items": null,
      "left": null,
      "margin": null,
      "max_height": null,
      "max_width": null,
      "min_height": null,
      "min_width": null,
      "object_fit": null,
      "object_position": null,
      "order": null,
      "overflow": null,
      "overflow_x": null,
      "overflow_y": null,
      "padding": null,
      "right": null,
      "top": null,
      "visibility": null,
      "width": null
     }
    },
    "6d7ca213ed1344a79784b99a1027e5b8": {
     "model_module": "@jupyter-widgets/base",
     "model_module_version": "1.2.0",
     "model_name": "LayoutModel",
     "state": {
      "_model_module": "@jupyter-widgets/base",
      "_model_module_version": "1.2.0",
      "_model_name": "LayoutModel",
      "_view_count": null,
      "_view_module": "@jupyter-widgets/base",
      "_view_module_version": "1.2.0",
      "_view_name": "LayoutView",
      "align_content": null,
      "align_items": null,
      "align_self": null,
      "border": null,
      "bottom": null,
      "display": null,
      "flex": null,
      "flex_flow": null,
      "grid_area": null,
      "grid_auto_columns": null,
      "grid_auto_flow": null,
      "grid_auto_rows": null,
      "grid_column": null,
      "grid_gap": null,
      "grid_row": null,
      "grid_template_areas": null,
      "grid_template_columns": null,
      "grid_template_rows": null,
      "height": null,
      "justify_content": null,
      "justify_items": null,
      "left": null,
      "margin": null,
      "max_height": null,
      "max_width": null,
      "min_height": null,
      "min_width": null,
      "object_fit": null,
      "object_position": null,
      "order": null,
      "overflow": null,
      "overflow_x": null,
      "overflow_y": null,
      "padding": null,
      "right": null,
      "top": null,
      "visibility": null,
      "width": "20px"
     }
    },
    "6f888519cc6c4fdeb278f2bf7ca7e36d": {
     "model_module": "@jupyter-widgets/base",
     "model_module_version": "1.2.0",
     "model_name": "LayoutModel",
     "state": {
      "_model_module": "@jupyter-widgets/base",
      "_model_module_version": "1.2.0",
      "_model_name": "LayoutModel",
      "_view_count": null,
      "_view_module": "@jupyter-widgets/base",
      "_view_module_version": "1.2.0",
      "_view_name": "LayoutView",
      "align_content": null,
      "align_items": null,
      "align_self": null,
      "border": null,
      "bottom": null,
      "display": null,
      "flex": null,
      "flex_flow": null,
      "grid_area": null,
      "grid_auto_columns": null,
      "grid_auto_flow": null,
      "grid_auto_rows": null,
      "grid_column": null,
      "grid_gap": null,
      "grid_row": null,
      "grid_template_areas": null,
      "grid_template_columns": null,
      "grid_template_rows": null,
      "height": null,
      "justify_content": null,
      "justify_items": null,
      "left": null,
      "margin": null,
      "max_height": null,
      "max_width": null,
      "min_height": null,
      "min_width": null,
      "object_fit": null,
      "object_position": null,
      "order": null,
      "overflow": null,
      "overflow_x": null,
      "overflow_y": null,
      "padding": null,
      "right": null,
      "top": null,
      "visibility": null,
      "width": null
     }
    },
    "71b0975b7d2f4308b1683224830a494d": {
     "model_module": "@jupyter-widgets/controls",
     "model_module_version": "1.5.0",
     "model_name": "HTMLModel",
     "state": {
      "_dom_classes": [],
      "_model_module": "@jupyter-widgets/controls",
      "_model_module_version": "1.5.0",
      "_model_name": "HTMLModel",
      "_view_count": null,
      "_view_module": "@jupyter-widgets/controls",
      "_view_module_version": "1.5.0",
      "_view_name": "HTMLView",
      "description": "",
      "description_tooltip": null,
      "layout": "IPY_MODEL_1ae6d5d234e24caabd7c513903b6129d",
      "placeholder": "​",
      "style": "IPY_MODEL_e749b562e9934c4e9ce7f13600fa93c2",
      "value": " 3.83k/? [00:00&lt;00:00, 326kB/s]"
     }
    },
    "73bc785d1c264a67875aa5ffe937328d": {
     "model_module": "@jupyter-widgets/base",
     "model_module_version": "1.2.0",
     "model_name": "LayoutModel",
     "state": {
      "_model_module": "@jupyter-widgets/base",
      "_model_module_version": "1.2.0",
      "_model_name": "LayoutModel",
      "_view_count": null,
      "_view_module": "@jupyter-widgets/base",
      "_view_module_version": "1.2.0",
      "_view_name": "LayoutView",
      "align_content": null,
      "align_items": null,
      "align_self": null,
      "border": null,
      "bottom": null,
      "display": null,
      "flex": null,
      "flex_flow": null,
      "grid_area": null,
      "grid_auto_columns": null,
      "grid_auto_flow": null,
      "grid_auto_rows": null,
      "grid_column": null,
      "grid_gap": null,
      "grid_row": null,
      "grid_template_areas": null,
      "grid_template_columns": null,
      "grid_template_rows": null,
      "height": null,
      "justify_content": null,
      "justify_items": null,
      "left": null,
      "margin": null,
      "max_height": null,
      "max_width": null,
      "min_height": null,
      "min_width": null,
      "object_fit": null,
      "object_position": null,
      "order": null,
      "overflow": null,
      "overflow_x": null,
      "overflow_y": null,
      "padding": null,
      "right": null,
      "top": null,
      "visibility": null,
      "width": null
     }
    },
    "745d5ad0ed654eb7b5336799476b4876": {
     "model_module": "@jupyter-widgets/base",
     "model_module_version": "1.2.0",
     "model_name": "LayoutModel",
     "state": {
      "_model_module": "@jupyter-widgets/base",
      "_model_module_version": "1.2.0",
      "_model_name": "LayoutModel",
      "_view_count": null,
      "_view_module": "@jupyter-widgets/base",
      "_view_module_version": "1.2.0",
      "_view_name": "LayoutView",
      "align_content": null,
      "align_items": null,
      "align_self": null,
      "border": null,
      "bottom": null,
      "display": null,
      "flex": null,
      "flex_flow": null,
      "grid_area": null,
      "grid_auto_columns": null,
      "grid_auto_flow": null,
      "grid_auto_rows": null,
      "grid_column": null,
      "grid_gap": null,
      "grid_row": null,
      "grid_template_areas": null,
      "grid_template_columns": null,
      "grid_template_rows": null,
      "height": null,
      "justify_content": null,
      "justify_items": null,
      "left": null,
      "margin": null,
      "max_height": null,
      "max_width": null,
      "min_height": null,
      "min_width": null,
      "object_fit": null,
      "object_position": null,
      "order": null,
      "overflow": null,
      "overflow_x": null,
      "overflow_y": null,
      "padding": null,
      "right": null,
      "top": null,
      "visibility": null,
      "width": null
     }
    },
    "76c02d2c38d842c1915a0916a956ea7e": {
     "model_module": "@jupyter-widgets/controls",
     "model_module_version": "1.5.0",
     "model_name": "FloatProgressModel",
     "state": {
      "_dom_classes": [],
      "_model_module": "@jupyter-widgets/controls",
      "_model_module_version": "1.5.0",
      "_model_name": "FloatProgressModel",
      "_view_count": null,
      "_view_module": "@jupyter-widgets/controls",
      "_view_module_version": "1.5.0",
      "_view_name": "ProgressView",
      "bar_style": "success",
      "description": "",
      "description_tooltip": null,
      "layout": "IPY_MODEL_8baf68f1c0164d8f846f7ab477ac30fc",
      "max": 1,
      "min": 0,
      "orientation": "horizontal",
      "style": "IPY_MODEL_8b3d70925bd84297b6dddf0cc9430288",
      "value": 1
     }
    },
    "77d6064692ef468893b7e606e3649f50": {
     "model_module": "@jupyter-widgets/base",
     "model_module_version": "1.2.0",
     "model_name": "LayoutModel",
     "state": {
      "_model_module": "@jupyter-widgets/base",
      "_model_module_version": "1.2.0",
      "_model_name": "LayoutModel",
      "_view_count": null,
      "_view_module": "@jupyter-widgets/base",
      "_view_module_version": "1.2.0",
      "_view_name": "LayoutView",
      "align_content": null,
      "align_items": null,
      "align_self": null,
      "border": null,
      "bottom": null,
      "display": null,
      "flex": null,
      "flex_flow": null,
      "grid_area": null,
      "grid_auto_columns": null,
      "grid_auto_flow": null,
      "grid_auto_rows": null,
      "grid_column": null,
      "grid_gap": null,
      "grid_row": null,
      "grid_template_areas": null,
      "grid_template_columns": null,
      "grid_template_rows": null,
      "height": null,
      "justify_content": null,
      "justify_items": null,
      "left": null,
      "margin": null,
      "max_height": null,
      "max_width": null,
      "min_height": null,
      "min_width": null,
      "object_fit": null,
      "object_position": null,
      "order": null,
      "overflow": null,
      "overflow_x": null,
      "overflow_y": null,
      "padding": null,
      "right": null,
      "top": null,
      "visibility": null,
      "width": null
     }
    },
    "78d1c2566a0b496abe52f55b3ec2fbc1": {
     "model_module": "@jupyter-widgets/controls",
     "model_module_version": "1.5.0",
     "model_name": "FloatProgressModel",
     "state": {
      "_dom_classes": [],
      "_model_module": "@jupyter-widgets/controls",
      "_model_module_version": "1.5.0",
      "_model_name": "FloatProgressModel",
      "_view_count": null,
      "_view_module": "@jupyter-widgets/controls",
      "_view_module_version": "1.5.0",
      "_view_name": "ProgressView",
      "bar_style": "success",
      "description": "",
      "description_tooltip": null,
      "layout": "IPY_MODEL_9032ae346abe4614af4a8023ec9c95e9",
      "max": 17209920,
      "min": 0,
      "orientation": "horizontal",
      "style": "IPY_MODEL_b3663578031741db8391427391ce0664",
      "value": 17209920
     }
    },
    "7967b8126f3947cfb4baadf40648f5e4": {
     "model_module": "@jupyter-widgets/base",
     "model_module_version": "1.2.0",
     "model_name": "LayoutModel",
     "state": {
      "_model_module": "@jupyter-widgets/base",
      "_model_module_version": "1.2.0",
      "_model_name": "LayoutModel",
      "_view_count": null,
      "_view_module": "@jupyter-widgets/base",
      "_view_module_version": "1.2.0",
      "_view_name": "LayoutView",
      "align_content": null,
      "align_items": null,
      "align_self": null,
      "border": null,
      "bottom": null,
      "display": null,
      "flex": null,
      "flex_flow": null,
      "grid_area": null,
      "grid_auto_columns": null,
      "grid_auto_flow": null,
      "grid_auto_rows": null,
      "grid_column": null,
      "grid_gap": null,
      "grid_row": null,
      "grid_template_areas": null,
      "grid_template_columns": null,
      "grid_template_rows": null,
      "height": null,
      "justify_content": null,
      "justify_items": null,
      "left": null,
      "margin": null,
      "max_height": null,
      "max_width": null,
      "min_height": null,
      "min_width": null,
      "object_fit": null,
      "object_position": null,
      "order": null,
      "overflow": null,
      "overflow_x": null,
      "overflow_y": null,
      "padding": null,
      "right": null,
      "top": null,
      "visibility": null,
      "width": null
     }
    },
    "7bc3db51f5a14281bb4ed4a492ae901e": {
     "model_module": "@jupyter-widgets/controls",
     "model_module_version": "1.5.0",
     "model_name": "HBoxModel",
     "state": {
      "_dom_classes": [],
      "_model_module": "@jupyter-widgets/controls",
      "_model_module_version": "1.5.0",
      "_model_name": "HBoxModel",
      "_view_count": null,
      "_view_module": "@jupyter-widgets/controls",
      "_view_module_version": "1.5.0",
      "_view_name": "HBoxView",
      "box_style": "",
      "children": [
       "IPY_MODEL_18fe7640fb1340a09cd39b4f83262bea",
       "IPY_MODEL_3da7448f142743438df84aeacd3ed0f0",
       "IPY_MODEL_01d4de2c079e434aa8b61d684073160a"
      ],
      "layout": "IPY_MODEL_96f5683f75d047f9902fd4e3bc9660dd"
     }
    },
    "7f08a04aca6b4b88a77e77a312929e91": {
     "model_module": "@jupyter-widgets/base",
     "model_module_version": "1.2.0",
     "model_name": "LayoutModel",
     "state": {
      "_model_module": "@jupyter-widgets/base",
      "_model_module_version": "1.2.0",
      "_model_name": "LayoutModel",
      "_view_count": null,
      "_view_module": "@jupyter-widgets/base",
      "_view_module_version": "1.2.0",
      "_view_name": "LayoutView",
      "align_content": null,
      "align_items": null,
      "align_self": null,
      "border": null,
      "bottom": null,
      "display": null,
      "flex": null,
      "flex_flow": null,
      "grid_area": null,
      "grid_auto_columns": null,
      "grid_auto_flow": null,
      "grid_auto_rows": null,
      "grid_column": null,
      "grid_gap": null,
      "grid_row": null,
      "grid_template_areas": null,
      "grid_template_columns": null,
      "grid_template_rows": null,
      "height": null,
      "justify_content": null,
      "justify_items": null,
      "left": null,
      "margin": null,
      "max_height": null,
      "max_width": null,
      "min_height": null,
      "min_width": null,
      "object_fit": null,
      "object_position": null,
      "order": null,
      "overflow": null,
      "overflow_x": null,
      "overflow_y": null,
      "padding": null,
      "right": null,
      "top": null,
      "visibility": null,
      "width": null
     }
    },
    "846140287e674ccf8be62dc00302f0f2": {
     "model_module": "@jupyter-widgets/base",
     "model_module_version": "1.2.0",
     "model_name": "LayoutModel",
     "state": {
      "_model_module": "@jupyter-widgets/base",
      "_model_module_version": "1.2.0",
      "_model_name": "LayoutModel",
      "_view_count": null,
      "_view_module": "@jupyter-widgets/base",
      "_view_module_version": "1.2.0",
      "_view_name": "LayoutView",
      "align_content": null,
      "align_items": null,
      "align_self": null,
      "border": null,
      "bottom": null,
      "display": null,
      "flex": null,
      "flex_flow": null,
      "grid_area": null,
      "grid_auto_columns": null,
      "grid_auto_flow": null,
      "grid_auto_rows": null,
      "grid_column": null,
      "grid_gap": null,
      "grid_row": null,
      "grid_template_areas": null,
      "grid_template_columns": null,
      "grid_template_rows": null,
      "height": null,
      "justify_content": null,
      "justify_items": null,
      "left": null,
      "margin": null,
      "max_height": null,
      "max_width": null,
      "min_height": null,
      "min_width": null,
      "object_fit": null,
      "object_position": null,
      "order": null,
      "overflow": null,
      "overflow_x": null,
      "overflow_y": null,
      "padding": null,
      "right": null,
      "top": null,
      "visibility": null,
      "width": null
     }
    },
    "84e81bf73c5f43d3b5a45f1cef405bd1": {
     "model_module": "@jupyter-widgets/base",
     "model_module_version": "1.2.0",
     "model_name": "LayoutModel",
     "state": {
      "_model_module": "@jupyter-widgets/base",
      "_model_module_version": "1.2.0",
      "_model_name": "LayoutModel",
      "_view_count": null,
      "_view_module": "@jupyter-widgets/base",
      "_view_module_version": "1.2.0",
      "_view_name": "LayoutView",
      "align_content": null,
      "align_items": null,
      "align_self": null,
      "border": null,
      "bottom": null,
      "display": null,
      "flex": null,
      "flex_flow": null,
      "grid_area": null,
      "grid_auto_columns": null,
      "grid_auto_flow": null,
      "grid_auto_rows": null,
      "grid_column": null,
      "grid_gap": null,
      "grid_row": null,
      "grid_template_areas": null,
      "grid_template_columns": null,
      "grid_template_rows": null,
      "height": null,
      "justify_content": null,
      "justify_items": null,
      "left": null,
      "margin": null,
      "max_height": null,
      "max_width": null,
      "min_height": null,
      "min_width": null,
      "object_fit": null,
      "object_position": null,
      "order": null,
      "overflow": null,
      "overflow_x": null,
      "overflow_y": null,
      "padding": null,
      "right": null,
      "top": null,
      "visibility": null,
      "width": null
     }
    },
    "8841c7b143e54817b6d00b7a525f5e4c": {
     "model_module": "@jupyter-widgets/base",
     "model_module_version": "1.2.0",
     "model_name": "LayoutModel",
     "state": {
      "_model_module": "@jupyter-widgets/base",
      "_model_module_version": "1.2.0",
      "_model_name": "LayoutModel",
      "_view_count": null,
      "_view_module": "@jupyter-widgets/base",
      "_view_module_version": "1.2.0",
      "_view_name": "LayoutView",
      "align_content": null,
      "align_items": null,
      "align_self": null,
      "border": null,
      "bottom": null,
      "display": null,
      "flex": null,
      "flex_flow": null,
      "grid_area": null,
      "grid_auto_columns": null,
      "grid_auto_flow": null,
      "grid_auto_rows": null,
      "grid_column": null,
      "grid_gap": null,
      "grid_row": null,
      "grid_template_areas": null,
      "grid_template_columns": null,
      "grid_template_rows": null,
      "height": null,
      "justify_content": null,
      "justify_items": null,
      "left": null,
      "margin": null,
      "max_height": null,
      "max_width": null,
      "min_height": null,
      "min_width": null,
      "object_fit": null,
      "object_position": null,
      "order": null,
      "overflow": null,
      "overflow_x": null,
      "overflow_y": null,
      "padding": null,
      "right": null,
      "top": null,
      "visibility": null,
      "width": null
     }
    },
    "8b3d70925bd84297b6dddf0cc9430288": {
     "model_module": "@jupyter-widgets/controls",
     "model_module_version": "1.5.0",
     "model_name": "ProgressStyleModel",
     "state": {
      "_model_module": "@jupyter-widgets/controls",
      "_model_module_version": "1.5.0",
      "_model_name": "ProgressStyleModel",
      "_view_count": null,
      "_view_module": "@jupyter-widgets/base",
      "_view_module_version": "1.2.0",
      "_view_name": "StyleView",
      "bar_color": null,
      "description_width": ""
     }
    },
    "8baf68f1c0164d8f846f7ab477ac30fc": {
     "model_module": "@jupyter-widgets/base",
     "model_module_version": "1.2.0",
     "model_name": "LayoutModel",
     "state": {
      "_model_module": "@jupyter-widgets/base",
      "_model_module_version": "1.2.0",
      "_model_name": "LayoutModel",
      "_view_count": null,
      "_view_module": "@jupyter-widgets/base",
      "_view_module_version": "1.2.0",
      "_view_name": "LayoutView",
      "align_content": null,
      "align_items": null,
      "align_self": null,
      "border": null,
      "bottom": null,
      "display": null,
      "flex": null,
      "flex_flow": null,
      "grid_area": null,
      "grid_auto_columns": null,
      "grid_auto_flow": null,
      "grid_auto_rows": null,
      "grid_column": null,
      "grid_gap": null,
      "grid_row": null,
      "grid_template_areas": null,
      "grid_template_columns": null,
      "grid_template_rows": null,
      "height": null,
      "justify_content": null,
      "justify_items": null,
      "left": null,
      "margin": null,
      "max_height": null,
      "max_width": null,
      "min_height": null,
      "min_width": null,
      "object_fit": null,
      "object_position": null,
      "order": null,
      "overflow": null,
      "overflow_x": null,
      "overflow_y": null,
      "padding": null,
      "right": null,
      "top": null,
      "visibility": null,
      "width": "20px"
     }
    },
    "8bb4cc6407e64d2190e2da2976ffc0e1": {
     "model_module": "@jupyter-widgets/base",
     "model_module_version": "1.2.0",
     "model_name": "LayoutModel",
     "state": {
      "_model_module": "@jupyter-widgets/base",
      "_model_module_version": "1.2.0",
      "_model_name": "LayoutModel",
      "_view_count": null,
      "_view_module": "@jupyter-widgets/base",
      "_view_module_version": "1.2.0",
      "_view_name": "LayoutView",
      "align_content": null,
      "align_items": null,
      "align_self": null,
      "border": null,
      "bottom": null,
      "display": null,
      "flex": null,
      "flex_flow": null,
      "grid_area": null,
      "grid_auto_columns": null,
      "grid_auto_flow": null,
      "grid_auto_rows": null,
      "grid_column": null,
      "grid_gap": null,
      "grid_row": null,
      "grid_template_areas": null,
      "grid_template_columns": null,
      "grid_template_rows": null,
      "height": null,
      "justify_content": null,
      "justify_items": null,
      "left": null,
      "margin": null,
      "max_height": null,
      "max_width": null,
      "min_height": null,
      "min_width": null,
      "object_fit": null,
      "object_position": null,
      "order": null,
      "overflow": null,
      "overflow_x": null,
      "overflow_y": null,
      "padding": null,
      "right": null,
      "top": null,
      "visibility": null,
      "width": null
     }
    },
    "8d4499c064ea428393dd8b5eba60d852": {
     "model_module": "@jupyter-widgets/controls",
     "model_module_version": "1.5.0",
     "model_name": "FloatProgressModel",
     "state": {
      "_dom_classes": [],
      "_model_module": "@jupyter-widgets/controls",
      "_model_module_version": "1.5.0",
      "_model_name": "FloatProgressModel",
      "_view_count": null,
      "_view_module": "@jupyter-widgets/controls",
      "_view_module_version": "1.5.0",
      "_view_name": "ProgressView",
      "bar_style": "",
      "description": "",
      "description_tooltip": null,
      "layout": "IPY_MODEL_7967b8126f3947cfb4baadf40648f5e4",
      "max": 2,
      "min": 0,
      "orientation": "horizontal",
      "style": "IPY_MODEL_5b9e2b4f761c4854893196985760f3f7",
      "value": 0
     }
    },
    "8e72354facf446daa568d09c31a30c9d": {
     "model_module": "@jupyter-widgets/controls",
     "model_module_version": "1.5.0",
     "model_name": "ProgressStyleModel",
     "state": {
      "_model_module": "@jupyter-widgets/controls",
      "_model_module_version": "1.5.0",
      "_model_name": "ProgressStyleModel",
      "_view_count": null,
      "_view_module": "@jupyter-widgets/base",
      "_view_module_version": "1.2.0",
      "_view_name": "StyleView",
      "bar_color": null,
      "description_width": ""
     }
    },
    "8e8e521e57874af68c90bb3f8b817d39": {
     "model_module": "@jupyter-widgets/controls",
     "model_module_version": "1.5.0",
     "model_name": "DescriptionStyleModel",
     "state": {
      "_model_module": "@jupyter-widgets/controls",
      "_model_module_version": "1.5.0",
      "_model_name": "DescriptionStyleModel",
      "_view_count": null,
      "_view_module": "@jupyter-widgets/base",
      "_view_module_version": "1.2.0",
      "_view_name": "StyleView",
      "description_width": ""
     }
    },
    "9032ae346abe4614af4a8023ec9c95e9": {
     "model_module": "@jupyter-widgets/base",
     "model_module_version": "1.2.0",
     "model_name": "LayoutModel",
     "state": {
      "_model_module": "@jupyter-widgets/base",
      "_model_module_version": "1.2.0",
      "_model_name": "LayoutModel",
      "_view_count": null,
      "_view_module": "@jupyter-widgets/base",
      "_view_module_version": "1.2.0",
      "_view_name": "LayoutView",
      "align_content": null,
      "align_items": null,
      "align_self": null,
      "border": null,
      "bottom": null,
      "display": null,
      "flex": null,
      "flex_flow": null,
      "grid_area": null,
      "grid_auto_columns": null,
      "grid_auto_flow": null,
      "grid_auto_rows": null,
      "grid_column": null,
      "grid_gap": null,
      "grid_row": null,
      "grid_template_areas": null,
      "grid_template_columns": null,
      "grid_template_rows": null,
      "height": null,
      "justify_content": null,
      "justify_items": null,
      "left": null,
      "margin": null,
      "max_height": null,
      "max_width": null,
      "min_height": null,
      "min_width": null,
      "object_fit": null,
      "object_position": null,
      "order": null,
      "overflow": null,
      "overflow_x": null,
      "overflow_y": null,
      "padding": null,
      "right": null,
      "top": null,
      "visibility": null,
      "width": null
     }
    },
    "9125bd56962749b297ca1b3e7a5e6d30": {
     "model_module": "@jupyter-widgets/controls",
     "model_module_version": "1.5.0",
     "model_name": "DescriptionStyleModel",
     "state": {
      "_model_module": "@jupyter-widgets/controls",
      "_model_module_version": "1.5.0",
      "_model_name": "DescriptionStyleModel",
      "_view_count": null,
      "_view_module": "@jupyter-widgets/base",
      "_view_module_version": "1.2.0",
      "_view_name": "StyleView",
      "description_width": ""
     }
    },
    "93c3713acdef43ed8ba8a464932dc056": {
     "model_module": "@jupyter-widgets/base",
     "model_module_version": "1.2.0",
     "model_name": "LayoutModel",
     "state": {
      "_model_module": "@jupyter-widgets/base",
      "_model_module_version": "1.2.0",
      "_model_name": "LayoutModel",
      "_view_count": null,
      "_view_module": "@jupyter-widgets/base",
      "_view_module_version": "1.2.0",
      "_view_name": "LayoutView",
      "align_content": null,
      "align_items": null,
      "align_self": null,
      "border": null,
      "bottom": null,
      "display": null,
      "flex": null,
      "flex_flow": null,
      "grid_area": null,
      "grid_auto_columns": null,
      "grid_auto_flow": null,
      "grid_auto_rows": null,
      "grid_column": null,
      "grid_gap": null,
      "grid_row": null,
      "grid_template_areas": null,
      "grid_template_columns": null,
      "grid_template_rows": null,
      "height": null,
      "justify_content": null,
      "justify_items": null,
      "left": null,
      "margin": null,
      "max_height": null,
      "max_width": null,
      "min_height": null,
      "min_width": null,
      "object_fit": null,
      "object_position": null,
      "order": null,
      "overflow": null,
      "overflow_x": null,
      "overflow_y": null,
      "padding": null,
      "right": null,
      "top": null,
      "visibility": null,
      "width": null
     }
    },
    "95571516ddf04463bed531387c22ad9b": {
     "model_module": "@jupyter-widgets/controls",
     "model_module_version": "1.5.0",
     "model_name": "HBoxModel",
     "state": {
      "_dom_classes": [],
      "_model_module": "@jupyter-widgets/controls",
      "_model_module_version": "1.5.0",
      "_model_name": "HBoxModel",
      "_view_count": null,
      "_view_module": "@jupyter-widgets/controls",
      "_view_module_version": "1.5.0",
      "_view_name": "HBoxView",
      "box_style": "",
      "children": [
       "IPY_MODEL_54557c2d0208412cad98909a7df3ed44",
       "IPY_MODEL_2c96e2efdb4349aca098a446a0b0c40f",
       "IPY_MODEL_06177429f1124fdcbf913dd2f6a50dee"
      ],
      "layout": "IPY_MODEL_a824df29a0134727a07e198988e49532"
     }
    },
    "96f5683f75d047f9902fd4e3bc9660dd": {
     "model_module": "@jupyter-widgets/base",
     "model_module_version": "1.2.0",
     "model_name": "LayoutModel",
     "state": {
      "_model_module": "@jupyter-widgets/base",
      "_model_module_version": "1.2.0",
      "_model_name": "LayoutModel",
      "_view_count": null,
      "_view_module": "@jupyter-widgets/base",
      "_view_module_version": "1.2.0",
      "_view_name": "LayoutView",
      "align_content": null,
      "align_items": null,
      "align_self": null,
      "border": null,
      "bottom": null,
      "display": null,
      "flex": null,
      "flex_flow": null,
      "grid_area": null,
      "grid_auto_columns": null,
      "grid_auto_flow": null,
      "grid_auto_rows": null,
      "grid_column": null,
      "grid_gap": null,
      "grid_row": null,
      "grid_template_areas": null,
      "grid_template_columns": null,
      "grid_template_rows": null,
      "height": null,
      "justify_content": null,
      "justify_items": null,
      "left": null,
      "margin": null,
      "max_height": null,
      "max_width": null,
      "min_height": null,
      "min_width": null,
      "object_fit": null,
      "object_position": null,
      "order": null,
      "overflow": null,
      "overflow_x": null,
      "overflow_y": null,
      "padding": null,
      "right": null,
      "top": null,
      "visibility": null,
      "width": null
     }
    },
    "9982e19145cf4b61973d475cedd35028": {
     "model_module": "@jupyter-widgets/controls",
     "model_module_version": "1.5.0",
     "model_name": "HBoxModel",
     "state": {
      "_dom_classes": [],
      "_model_module": "@jupyter-widgets/controls",
      "_model_module_version": "1.5.0",
      "_model_name": "HBoxModel",
      "_view_count": null,
      "_view_module": "@jupyter-widgets/controls",
      "_view_module_version": "1.5.0",
      "_view_name": "HBoxView",
      "box_style": "",
      "children": [
       "IPY_MODEL_5e0ef6d4f1894159ac1ec5e93a9e8b59",
       "IPY_MODEL_b08e87301e0245ba89e0c54913cdba16",
       "IPY_MODEL_1a4c74843b9b47c69519e93b794f7339"
      ],
      "layout": "IPY_MODEL_9d2762d1a2e04852a5e518608a59eeb4"
     }
    },
    "99dc328024f943b3ac1e1e0c959a677e": {
     "model_module": "@jupyter-widgets/controls",
     "model_module_version": "1.5.0",
     "model_name": "DescriptionStyleModel",
     "state": {
      "_model_module": "@jupyter-widgets/controls",
      "_model_module_version": "1.5.0",
      "_model_name": "DescriptionStyleModel",
      "_view_count": null,
      "_view_module": "@jupyter-widgets/base",
      "_view_module_version": "1.2.0",
      "_view_name": "StyleView",
      "description_width": ""
     }
    },
    "9cea37b102dd4a53ba5a579982324e68": {
     "model_module": "@jupyter-widgets/controls",
     "model_module_version": "1.5.0",
     "model_name": "ProgressStyleModel",
     "state": {
      "_model_module": "@jupyter-widgets/controls",
      "_model_module_version": "1.5.0",
      "_model_name": "ProgressStyleModel",
      "_view_count": null,
      "_view_module": "@jupyter-widgets/base",
      "_view_module_version": "1.2.0",
      "_view_name": "StyleView",
      "bar_color": null,
      "description_width": ""
     }
    },
    "9d2762d1a2e04852a5e518608a59eeb4": {
     "model_module": "@jupyter-widgets/base",
     "model_module_version": "1.2.0",
     "model_name": "LayoutModel",
     "state": {
      "_model_module": "@jupyter-widgets/base",
      "_model_module_version": "1.2.0",
      "_model_name": "LayoutModel",
      "_view_count": null,
      "_view_module": "@jupyter-widgets/base",
      "_view_module_version": "1.2.0",
      "_view_name": "LayoutView",
      "align_content": null,
      "align_items": null,
      "align_self": null,
      "border": null,
      "bottom": null,
      "display": null,
      "flex": null,
      "flex_flow": null,
      "grid_area": null,
      "grid_auto_columns": null,
      "grid_auto_flow": null,
      "grid_auto_rows": null,
      "grid_column": null,
      "grid_gap": null,
      "grid_row": null,
      "grid_template_areas": null,
      "grid_template_columns": null,
      "grid_template_rows": null,
      "height": null,
      "justify_content": null,
      "justify_items": null,
      "left": null,
      "margin": null,
      "max_height": null,
      "max_width": null,
      "min_height": null,
      "min_width": null,
      "object_fit": null,
      "object_position": null,
      "order": null,
      "overflow": null,
      "overflow_x": null,
      "overflow_y": null,
      "padding": null,
      "right": null,
      "top": null,
      "visibility": null,
      "width": null
     }
    },
    "9e4f386a46bc4be28cbf62be52c294e7": {
     "model_module": "@jupyter-widgets/base",
     "model_module_version": "1.2.0",
     "model_name": "LayoutModel",
     "state": {
      "_model_module": "@jupyter-widgets/base",
      "_model_module_version": "1.2.0",
      "_model_name": "LayoutModel",
      "_view_count": null,
      "_view_module": "@jupyter-widgets/base",
      "_view_module_version": "1.2.0",
      "_view_name": "LayoutView",
      "align_content": null,
      "align_items": null,
      "align_self": null,
      "border": null,
      "bottom": null,
      "display": null,
      "flex": null,
      "flex_flow": null,
      "grid_area": null,
      "grid_auto_columns": null,
      "grid_auto_flow": null,
      "grid_auto_rows": null,
      "grid_column": null,
      "grid_gap": null,
      "grid_row": null,
      "grid_template_areas": null,
      "grid_template_columns": null,
      "grid_template_rows": null,
      "height": null,
      "justify_content": null,
      "justify_items": null,
      "left": null,
      "margin": null,
      "max_height": null,
      "max_width": null,
      "min_height": null,
      "min_width": null,
      "object_fit": null,
      "object_position": null,
      "order": null,
      "overflow": null,
      "overflow_x": null,
      "overflow_y": null,
      "padding": null,
      "right": null,
      "top": null,
      "visibility": null,
      "width": null
     }
    },
    "a08ac9d2d5c648c5ba9bfa2fbb3fe90d": {
     "model_module": "@jupyter-widgets/controls",
     "model_module_version": "1.5.0",
     "model_name": "DescriptionStyleModel",
     "state": {
      "_model_module": "@jupyter-widgets/controls",
      "_model_module_version": "1.5.0",
      "_model_name": "DescriptionStyleModel",
      "_view_count": null,
      "_view_module": "@jupyter-widgets/base",
      "_view_module_version": "1.2.0",
      "_view_name": "StyleView",
      "description_width": ""
     }
    },
    "a0c2bc9582aa4bffbc019714d5fbbcde": {
     "model_module": "@jupyter-widgets/controls",
     "model_module_version": "1.5.0",
     "model_name": "DescriptionStyleModel",
     "state": {
      "_model_module": "@jupyter-widgets/controls",
      "_model_module_version": "1.5.0",
      "_model_name": "DescriptionStyleModel",
      "_view_count": null,
      "_view_module": "@jupyter-widgets/base",
      "_view_module_version": "1.2.0",
      "_view_name": "StyleView",
      "description_width": ""
     }
    },
    "a108f45d090b49038f4bc92bc7cb6164": {
     "model_module": "@jupyter-widgets/controls",
     "model_module_version": "1.5.0",
     "model_name": "DescriptionStyleModel",
     "state": {
      "_model_module": "@jupyter-widgets/controls",
      "_model_module_version": "1.5.0",
      "_model_name": "DescriptionStyleModel",
      "_view_count": null,
      "_view_module": "@jupyter-widgets/base",
      "_view_module_version": "1.2.0",
      "_view_name": "StyleView",
      "description_width": ""
     }
    },
    "a2bc22e6fa0c43a582c0b1beca43ea2f": {
     "model_module": "@jupyter-widgets/controls",
     "model_module_version": "1.5.0",
     "model_name": "HTMLModel",
     "state": {
      "_dom_classes": [],
      "_model_module": "@jupyter-widgets/controls",
      "_model_module_version": "1.5.0",
      "_model_name": "HTMLModel",
      "_view_count": null,
      "_view_module": "@jupyter-widgets/controls",
      "_view_module_version": "1.5.0",
      "_view_name": "HTMLView",
      "description": "",
      "description_tooltip": null,
      "layout": "IPY_MODEL_2d5d0c524f8a46388b120c44eacca6f5",
      "placeholder": "​",
      "style": "IPY_MODEL_8e8e521e57874af68c90bb3f8b817d39",
      "value": "tokenizer.json: 100%"
     }
    },
    "a3529b153d5b4171aa1015374287a8fd": {
     "model_module": "@jupyter-widgets/controls",
     "model_module_version": "1.5.0",
     "model_name": "FloatProgressModel",
     "state": {
      "_dom_classes": [],
      "_model_module": "@jupyter-widgets/controls",
      "_model_module_version": "1.5.0",
      "_model_name": "FloatProgressModel",
      "_view_count": null,
      "_view_module": "@jupyter-widgets/controls",
      "_view_module_version": "1.5.0",
      "_view_name": "ProgressView",
      "bar_style": "success",
      "description": "",
      "description_tooltip": null,
      "layout": "IPY_MODEL_de6c66f14b7d45e5a7abe4229a1762b3",
      "max": 1,
      "min": 0,
      "orientation": "horizontal",
      "style": "IPY_MODEL_ababaf7e6ff24dacbdbf90c1350ab73c",
      "value": 1
     }
    },
    "a6a558eea8f648d1bb3e1fc3b54a23e8": {
     "model_module": "@jupyter-widgets/controls",
     "model_module_version": "1.5.0",
     "model_name": "HTMLModel",
     "state": {
      "_dom_classes": [],
      "_model_module": "@jupyter-widgets/controls",
      "_model_module_version": "1.5.0",
      "_model_name": "HTMLModel",
      "_view_count": null,
      "_view_module": "@jupyter-widgets/controls",
      "_view_module_version": "1.5.0",
      "_view_name": "HTMLView",
      "description": "",
      "description_tooltip": null,
      "layout": "IPY_MODEL_73bc785d1c264a67875aa5ffe937328d",
      "placeholder": "​",
      "style": "IPY_MODEL_004d0a3da127412caabb6fb78957b98c",
      "value": " 454/454 [00:00&lt;00:00, 13.3kB/s]"
     }
    },
    "a7cec4a0fe9b490c83deb0fa4c9bc570": {
     "model_module": "@jupyter-widgets/controls",
     "model_module_version": "1.5.0",
     "model_name": "DescriptionStyleModel",
     "state": {
      "_model_module": "@jupyter-widgets/controls",
      "_model_module_version": "1.5.0",
      "_model_name": "DescriptionStyleModel",
      "_view_count": null,
      "_view_module": "@jupyter-widgets/base",
      "_view_module_version": "1.2.0",
      "_view_name": "StyleView",
      "description_width": ""
     }
    },
    "a7fb3e84cc4244cd9ccbae396c1a7ca7": {
     "model_module": "@jupyter-widgets/base",
     "model_module_version": "1.2.0",
     "model_name": "LayoutModel",
     "state": {
      "_model_module": "@jupyter-widgets/base",
      "_model_module_version": "1.2.0",
      "_model_name": "LayoutModel",
      "_view_count": null,
      "_view_module": "@jupyter-widgets/base",
      "_view_module_version": "1.2.0",
      "_view_name": "LayoutView",
      "align_content": null,
      "align_items": null,
      "align_self": null,
      "border": null,
      "bottom": null,
      "display": null,
      "flex": null,
      "flex_flow": null,
      "grid_area": null,
      "grid_auto_columns": null,
      "grid_auto_flow": null,
      "grid_auto_rows": null,
      "grid_column": null,
      "grid_gap": null,
      "grid_row": null,
      "grid_template_areas": null,
      "grid_template_columns": null,
      "grid_template_rows": null,
      "height": null,
      "justify_content": null,
      "justify_items": null,
      "left": null,
      "margin": null,
      "max_height": null,
      "max_width": null,
      "min_height": null,
      "min_width": null,
      "object_fit": null,
      "object_position": null,
      "order": null,
      "overflow": null,
      "overflow_x": null,
      "overflow_y": null,
      "padding": null,
      "right": null,
      "top": null,
      "visibility": null,
      "width": null
     }
    },
    "a824df29a0134727a07e198988e49532": {
     "model_module": "@jupyter-widgets/base",
     "model_module_version": "1.2.0",
     "model_name": "LayoutModel",
     "state": {
      "_model_module": "@jupyter-widgets/base",
      "_model_module_version": "1.2.0",
      "_model_name": "LayoutModel",
      "_view_count": null,
      "_view_module": "@jupyter-widgets/base",
      "_view_module_version": "1.2.0",
      "_view_name": "LayoutView",
      "align_content": null,
      "align_items": null,
      "align_self": null,
      "border": null,
      "bottom": null,
      "display": null,
      "flex": null,
      "flex_flow": null,
      "grid_area": null,
      "grid_auto_columns": null,
      "grid_auto_flow": null,
      "grid_auto_rows": null,
      "grid_column": null,
      "grid_gap": null,
      "grid_row": null,
      "grid_template_areas": null,
      "grid_template_columns": null,
      "grid_template_rows": null,
      "height": null,
      "justify_content": null,
      "justify_items": null,
      "left": null,
      "margin": null,
      "max_height": null,
      "max_width": null,
      "min_height": null,
      "min_width": null,
      "object_fit": null,
      "object_position": null,
      "order": null,
      "overflow": null,
      "overflow_x": null,
      "overflow_y": null,
      "padding": null,
      "right": null,
      "top": null,
      "visibility": null,
      "width": null
     }
    },
    "ababaf7e6ff24dacbdbf90c1350ab73c": {
     "model_module": "@jupyter-widgets/controls",
     "model_module_version": "1.5.0",
     "model_name": "ProgressStyleModel",
     "state": {
      "_model_module": "@jupyter-widgets/controls",
      "_model_module_version": "1.5.0",
      "_model_name": "ProgressStyleModel",
      "_view_count": null,
      "_view_module": "@jupyter-widgets/base",
      "_view_module_version": "1.2.0",
      "_view_name": "StyleView",
      "bar_color": null,
      "description_width": ""
     }
    },
    "b08e87301e0245ba89e0c54913cdba16": {
     "model_module": "@jupyter-widgets/controls",
     "model_module_version": "1.5.0",
     "model_name": "FloatProgressModel",
     "state": {
      "_dom_classes": [],
      "_model_module": "@jupyter-widgets/controls",
      "_model_module_version": "1.5.0",
      "_model_name": "FloatProgressModel",
      "_view_count": null,
      "_view_module": "@jupyter-widgets/controls",
      "_view_module_version": "1.5.0",
      "_view_name": "ProgressView",
      "bar_style": "success",
      "description": "",
      "description_tooltip": null,
      "layout": "IPY_MODEL_1edfef73272a41d8814ea517499fb0f4",
      "max": 1,
      "min": 0,
      "orientation": "horizontal",
      "style": "IPY_MODEL_4462758468034fd6815a09898409f520",
      "value": 1
     }
    },
    "b0bef97992ef484a80114e425963ee2e": {
     "model_module": "@jupyter-widgets/controls",
     "model_module_version": "1.5.0",
     "model_name": "HTMLModel",
     "state": {
      "_dom_classes": [],
      "_model_module": "@jupyter-widgets/controls",
      "_model_module_version": "1.5.0",
      "_model_name": "HTMLModel",
      "_view_count": null,
      "_view_module": "@jupyter-widgets/controls",
      "_view_module_version": "1.5.0",
      "_view_name": "HTMLView",
      "description": "",
      "description_tooltip": null,
      "layout": "IPY_MODEL_f15d335bd87f4bc6a57d9f85440cc675",
      "placeholder": "​",
      "style": "IPY_MODEL_da11bc21f47e4196b4f5e202c99963d2",
      "value": " 17.2M/17.2M [00:00&lt;00:00, 48.9MB/s]"
     }
    },
    "b2db77272b534b69a0610fc5f622fa7b": {
     "model_module": "@jupyter-widgets/controls",
     "model_module_version": "1.5.0",
     "model_name": "HTMLModel",
     "state": {
      "_dom_classes": [],
      "_model_module": "@jupyter-widgets/controls",
      "_model_module_version": "1.5.0",
      "_model_name": "HTMLModel",
      "_view_count": null,
      "_view_module": "@jupyter-widgets/controls",
      "_view_module_version": "1.5.0",
      "_view_name": "HTMLView",
      "description": "",
      "description_tooltip": null,
      "layout": "IPY_MODEL_e570b718bbe1404b8bb89bc606726ccc",
      "placeholder": "​",
      "style": "IPY_MODEL_a08ac9d2d5c648c5ba9bfa2fbb3fe90d",
      "value": " 890/890 [00:00&lt;00:00, 96.8kB/s]"
     }
    },
    "b3663578031741db8391427391ce0664": {
     "model_module": "@jupyter-widgets/controls",
     "model_module_version": "1.5.0",
     "model_name": "ProgressStyleModel",
     "state": {
      "_model_module": "@jupyter-widgets/controls",
      "_model_module_version": "1.5.0",
      "_model_name": "ProgressStyleModel",
      "_view_count": null,
      "_view_module": "@jupyter-widgets/base",
      "_view_module_version": "1.2.0",
      "_view_name": "StyleView",
      "bar_color": null,
      "description_width": ""
     }
    },
    "b376d7d4da3a4d71b480cf373a332b18": {
     "model_module": "@jupyter-widgets/controls",
     "model_module_version": "1.5.0",
     "model_name": "HTMLModel",
     "state": {
      "_dom_classes": [],
      "_model_module": "@jupyter-widgets/controls",
      "_model_module_version": "1.5.0",
      "_model_name": "HTMLModel",
      "_view_count": null,
      "_view_module": "@jupyter-widgets/controls",
      "_view_module_version": "1.5.0",
      "_view_name": "HTMLView",
      "description": "",
      "description_tooltip": null,
      "layout": "IPY_MODEL_b8a19d4691bb4f75b0232990caab3b58",
      "placeholder": "​",
      "style": "IPY_MODEL_99dc328024f943b3ac1e1e0c959a677e",
      "value": "tokenizer_config.json: "
     }
    },
    "b4010ebbe6c44ed68db33c16fec09890": {
     "model_module": "@jupyter-widgets/controls",
     "model_module_version": "1.5.0",
     "model_name": "HTMLModel",
     "state": {
      "_dom_classes": [],
      "_model_module": "@jupyter-widgets/controls",
      "_model_module_version": "1.5.0",
      "_model_name": "HTMLModel",
      "_view_count": null,
      "_view_module": "@jupyter-widgets/controls",
      "_view_module_version": "1.5.0",
      "_view_name": "HTMLView",
      "description": "",
      "description_tooltip": null,
      "layout": "IPY_MODEL_7f08a04aca6b4b88a77e77a312929e91",
      "placeholder": "​",
      "style": "IPY_MODEL_252a2c368ceb4f4c800b1cb5907e8a23",
      "value": "model.safetensors.index.json: "
     }
    },
    "b50d8fdfe944445d84cbc4dd261109e8": {
     "model_module": "@jupyter-widgets/controls",
     "model_module_version": "1.5.0",
     "model_name": "FloatProgressModel",
     "state": {
      "_dom_classes": [],
      "_model_module": "@jupyter-widgets/controls",
      "_model_module_version": "1.5.0",
      "_model_name": "FloatProgressModel",
      "_view_count": null,
      "_view_module": "@jupyter-widgets/controls",
      "_view_module_version": "1.5.0",
      "_view_name": "ProgressView",
      "bar_style": "",
      "description": "",
      "description_tooltip": null,
      "layout": "IPY_MODEL_0d104265103a4753bf1f4d7a1df3bb60",
      "max": 1459729952,
      "min": 0,
      "orientation": "horizontal",
      "style": "IPY_MODEL_5268e169d1514b09b449776036ec6f13",
      "value": 388811326
     }
    },
    "b8a19d4691bb4f75b0232990caab3b58": {
     "model_module": "@jupyter-widgets/base",
     "model_module_version": "1.2.0",
     "model_name": "LayoutModel",
     "state": {
      "_model_module": "@jupyter-widgets/base",
      "_model_module_version": "1.2.0",
      "_model_name": "LayoutModel",
      "_view_count": null,
      "_view_module": "@jupyter-widgets/base",
      "_view_module_version": "1.2.0",
      "_view_name": "LayoutView",
      "align_content": null,
      "align_items": null,
      "align_self": null,
      "border": null,
      "bottom": null,
      "display": null,
      "flex": null,
      "flex_flow": null,
      "grid_area": null,
      "grid_auto_columns": null,
      "grid_auto_flow": null,
      "grid_auto_rows": null,
      "grid_column": null,
      "grid_gap": null,
      "grid_row": null,
      "grid_template_areas": null,
      "grid_template_columns": null,
      "grid_template_rows": null,
      "height": null,
      "justify_content": null,
      "justify_items": null,
      "left": null,
      "margin": null,
      "max_height": null,
      "max_width": null,
      "min_height": null,
      "min_width": null,
      "object_fit": null,
      "object_position": null,
      "order": null,
      "overflow": null,
      "overflow_x": null,
      "overflow_y": null,
      "padding": null,
      "right": null,
      "top": null,
      "visibility": null,
      "width": null
     }
    },
    "ba140496fd954269b86131066e83e9a0": {
     "model_module": "@jupyter-widgets/controls",
     "model_module_version": "1.5.0",
     "model_name": "FloatProgressModel",
     "state": {
      "_dom_classes": [],
      "_model_module": "@jupyter-widgets/controls",
      "_model_module_version": "1.5.0",
      "_model_name": "FloatProgressModel",
      "_view_count": null,
      "_view_module": "@jupyter-widgets/controls",
      "_view_module_version": "1.5.0",
      "_view_name": "ProgressView",
      "bar_style": "success",
      "description": "",
      "description_tooltip": null,
      "layout": "IPY_MODEL_e948ff3ca3b249b79cc25062b2ba3936",
      "max": 890,
      "min": 0,
      "orientation": "horizontal",
      "style": "IPY_MODEL_22ba7718d02a497b8c9a1418559ebead",
      "value": 890
     }
    },
    "c02d0432c9164e169a5435b536d02a69": {
     "model_module": "@jupyter-widgets/controls",
     "model_module_version": "1.5.0",
     "model_name": "HBoxModel",
     "state": {
      "_dom_classes": [],
      "_model_module": "@jupyter-widgets/controls",
      "_model_module_version": "1.5.0",
      "_model_name": "HBoxModel",
      "_view_count": null,
      "_view_module": "@jupyter-widgets/controls",
      "_view_module_version": "1.5.0",
      "_view_name": "HBoxView",
      "box_style": "",
      "children": [
       "IPY_MODEL_db00069ddeab4a0e890029ee8583e036",
       "IPY_MODEL_8d4499c064ea428393dd8b5eba60d852",
       "IPY_MODEL_45af4d649a014ad8aced1ed43c9257b7"
      ],
      "layout": "IPY_MODEL_3b458dfdb1a9403ea223da0cad874a57"
     }
    },
    "c3a72b72a4264cbd8e55e8d9e79cfb20": {
     "model_module": "@jupyter-widgets/controls",
     "model_module_version": "1.5.0",
     "model_name": "DescriptionStyleModel",
     "state": {
      "_model_module": "@jupyter-widgets/controls",
      "_model_module_version": "1.5.0",
      "_model_name": "DescriptionStyleModel",
      "_view_count": null,
      "_view_module": "@jupyter-widgets/base",
      "_view_module_version": "1.2.0",
      "_view_name": "StyleView",
      "description_width": ""
     }
    },
    "c56a1fd264544d598c968aa59eae6d82": {
     "model_module": "@jupyter-widgets/base",
     "model_module_version": "1.2.0",
     "model_name": "LayoutModel",
     "state": {
      "_model_module": "@jupyter-widgets/base",
      "_model_module_version": "1.2.0",
      "_model_name": "LayoutModel",
      "_view_count": null,
      "_view_module": "@jupyter-widgets/base",
      "_view_module_version": "1.2.0",
      "_view_name": "LayoutView",
      "align_content": null,
      "align_items": null,
      "align_self": null,
      "border": null,
      "bottom": null,
      "display": null,
      "flex": null,
      "flex_flow": null,
      "grid_area": null,
      "grid_auto_columns": null,
      "grid_auto_flow": null,
      "grid_auto_rows": null,
      "grid_column": null,
      "grid_gap": null,
      "grid_row": null,
      "grid_template_areas": null,
      "grid_template_columns": null,
      "grid_template_rows": null,
      "height": null,
      "justify_content": null,
      "justify_items": null,
      "left": null,
      "margin": null,
      "max_height": null,
      "max_width": null,
      "min_height": null,
      "min_width": null,
      "object_fit": null,
      "object_position": null,
      "order": null,
      "overflow": null,
      "overflow_x": null,
      "overflow_y": null,
      "padding": null,
      "right": null,
      "top": null,
      "visibility": null,
      "width": null
     }
    },
    "c6e05e5fb9d24b428af0952fd39416b3": {
     "model_module": "@jupyter-widgets/controls",
     "model_module_version": "1.5.0",
     "model_name": "DescriptionStyleModel",
     "state": {
      "_model_module": "@jupyter-widgets/controls",
      "_model_module_version": "1.5.0",
      "_model_name": "DescriptionStyleModel",
      "_view_count": null,
      "_view_module": "@jupyter-widgets/base",
      "_view_module_version": "1.2.0",
      "_view_name": "StyleView",
      "description_width": ""
     }
    },
    "c71de519931943989e3b6469ffcab196": {
     "model_module": "@jupyter-widgets/base",
     "model_module_version": "1.2.0",
     "model_name": "LayoutModel",
     "state": {
      "_model_module": "@jupyter-widgets/base",
      "_model_module_version": "1.2.0",
      "_model_name": "LayoutModel",
      "_view_count": null,
      "_view_module": "@jupyter-widgets/base",
      "_view_module_version": "1.2.0",
      "_view_name": "LayoutView",
      "align_content": null,
      "align_items": null,
      "align_self": null,
      "border": null,
      "bottom": null,
      "display": null,
      "flex": null,
      "flex_flow": null,
      "grid_area": null,
      "grid_auto_columns": null,
      "grid_auto_flow": null,
      "grid_auto_rows": null,
      "grid_column": null,
      "grid_gap": null,
      "grid_row": null,
      "grid_template_areas": null,
      "grid_template_columns": null,
      "grid_template_rows": null,
      "height": null,
      "justify_content": null,
      "justify_items": null,
      "left": null,
      "margin": null,
      "max_height": null,
      "max_width": null,
      "min_height": null,
      "min_width": null,
      "object_fit": null,
      "object_position": null,
      "order": null,
      "overflow": null,
      "overflow_x": null,
      "overflow_y": null,
      "padding": null,
      "right": null,
      "top": null,
      "visibility": null,
      "width": null
     }
    },
    "ca20d020ecfd495da7bcb174a5711635": {
     "model_module": "@jupyter-widgets/base",
     "model_module_version": "1.2.0",
     "model_name": "LayoutModel",
     "state": {
      "_model_module": "@jupyter-widgets/base",
      "_model_module_version": "1.2.0",
      "_model_name": "LayoutModel",
      "_view_count": null,
      "_view_module": "@jupyter-widgets/base",
      "_view_module_version": "1.2.0",
      "_view_name": "LayoutView",
      "align_content": null,
      "align_items": null,
      "align_self": null,
      "border": null,
      "bottom": null,
      "display": null,
      "flex": null,
      "flex_flow": null,
      "grid_area": null,
      "grid_auto_columns": null,
      "grid_auto_flow": null,
      "grid_auto_rows": null,
      "grid_column": null,
      "grid_gap": null,
      "grid_row": null,
      "grid_template_areas": null,
      "grid_template_columns": null,
      "grid_template_rows": null,
      "height": null,
      "justify_content": null,
      "justify_items": null,
      "left": null,
      "margin": null,
      "max_height": null,
      "max_width": null,
      "min_height": null,
      "min_width": null,
      "object_fit": null,
      "object_position": null,
      "order": null,
      "overflow": null,
      "overflow_x": null,
      "overflow_y": null,
      "padding": null,
      "right": null,
      "top": null,
      "visibility": null,
      "width": null
     }
    },
    "cf255ea6367546999cdecbeb5430bd63": {
     "model_module": "@jupyter-widgets/controls",
     "model_module_version": "1.5.0",
     "model_name": "HTMLModel",
     "state": {
      "_dom_classes": [],
      "_model_module": "@jupyter-widgets/controls",
      "_model_module_version": "1.5.0",
      "_model_name": "HTMLModel",
      "_view_count": null,
      "_view_module": "@jupyter-widgets/controls",
      "_view_module_version": "1.5.0",
      "_view_name": "HTMLView",
      "description": "",
      "description_tooltip": null,
      "layout": "IPY_MODEL_cfbc06e8dc364ab4958dfa5f8eed647b",
      "placeholder": "​",
      "style": "IPY_MODEL_a7cec4a0fe9b490c83deb0fa4c9bc570",
      "value": "special_tokens_map.json: 100%"
     }
    },
    "cfbc06e8dc364ab4958dfa5f8eed647b": {
     "model_module": "@jupyter-widgets/base",
     "model_module_version": "1.2.0",
     "model_name": "LayoutModel",
     "state": {
      "_model_module": "@jupyter-widgets/base",
      "_model_module_version": "1.2.0",
      "_model_name": "LayoutModel",
      "_view_count": null,
      "_view_module": "@jupyter-widgets/base",
      "_view_module_version": "1.2.0",
      "_view_name": "LayoutView",
      "align_content": null,
      "align_items": null,
      "align_self": null,
      "border": null,
      "bottom": null,
      "display": null,
      "flex": null,
      "flex_flow": null,
      "grid_area": null,
      "grid_auto_columns": null,
      "grid_auto_flow": null,
      "grid_auto_rows": null,
      "grid_column": null,
      "grid_gap": null,
      "grid_row": null,
      "grid_template_areas": null,
      "grid_template_columns": null,
      "grid_template_rows": null,
      "height": null,
      "justify_content": null,
      "justify_items": null,
      "left": null,
      "margin": null,
      "max_height": null,
      "max_width": null,
      "min_height": null,
      "min_width": null,
      "object_fit": null,
      "object_position": null,
      "order": null,
      "overflow": null,
      "overflow_x": null,
      "overflow_y": null,
      "padding": null,
      "right": null,
      "top": null,
      "visibility": null,
      "width": null
     }
    },
    "cff746d7ec024e6792bd2e7f8e1c6f1d": {
     "model_module": "@jupyter-widgets/base",
     "model_module_version": "1.2.0",
     "model_name": "LayoutModel",
     "state": {
      "_model_module": "@jupyter-widgets/base",
      "_model_module_version": "1.2.0",
      "_model_name": "LayoutModel",
      "_view_count": null,
      "_view_module": "@jupyter-widgets/base",
      "_view_module_version": "1.2.0",
      "_view_name": "LayoutView",
      "align_content": null,
      "align_items": null,
      "align_self": null,
      "border": null,
      "bottom": null,
      "display": null,
      "flex": null,
      "flex_flow": null,
      "grid_area": null,
      "grid_auto_columns": null,
      "grid_auto_flow": null,
      "grid_auto_rows": null,
      "grid_column": null,
      "grid_gap": null,
      "grid_row": null,
      "grid_template_areas": null,
      "grid_template_columns": null,
      "grid_template_rows": null,
      "height": null,
      "justify_content": null,
      "justify_items": null,
      "left": null,
      "margin": null,
      "max_height": null,
      "max_width": null,
      "min_height": null,
      "min_width": null,
      "object_fit": null,
      "object_position": null,
      "order": null,
      "overflow": null,
      "overflow_x": null,
      "overflow_y": null,
      "padding": null,
      "right": null,
      "top": null,
      "visibility": null,
      "width": null
     }
    },
    "d0204761259c4d5f94fe5750d8f5a25a": {
     "model_module": "@jupyter-widgets/controls",
     "model_module_version": "1.5.0",
     "model_name": "HBoxModel",
     "state": {
      "_dom_classes": [],
      "_model_module": "@jupyter-widgets/controls",
      "_model_module_version": "1.5.0",
      "_model_name": "HBoxModel",
      "_view_count": null,
      "_view_module": "@jupyter-widgets/controls",
      "_view_module_version": "1.5.0",
      "_view_name": "HBoxView",
      "box_style": "",
      "children": [
       "IPY_MODEL_53f5aa27ef6d4a339b9493195a48465d",
       "IPY_MODEL_a3529b153d5b4171aa1015374287a8fd",
       "IPY_MODEL_71b0975b7d2f4308b1683224830a494d"
      ],
      "layout": "IPY_MODEL_745d5ad0ed654eb7b5336799476b4876"
     }
    },
    "d41380a83a8940afa93a0e708c57e9a0": {
     "model_module": "@jupyter-widgets/controls",
     "model_module_version": "1.5.0",
     "model_name": "HTMLModel",
     "state": {
      "_dom_classes": [],
      "_model_module": "@jupyter-widgets/controls",
      "_model_module_version": "1.5.0",
      "_model_name": "HTMLModel",
      "_view_count": null,
      "_view_module": "@jupyter-widgets/controls",
      "_view_module_version": "1.5.0",
      "_view_name": "HTMLView",
      "description": "",
      "description_tooltip": null,
      "layout": "IPY_MODEL_68ac573982bb4901888ed3d4edc0aa97",
      "placeholder": "​",
      "style": "IPY_MODEL_681d00be036a4dc3bac7359b7363e96a",
      "value": " 20.9k/? [00:00&lt;00:00, 1.80MB/s]"
     }
    },
    "da11bc21f47e4196b4f5e202c99963d2": {
     "model_module": "@jupyter-widgets/controls",
     "model_module_version": "1.5.0",
     "model_name": "DescriptionStyleModel",
     "state": {
      "_model_module": "@jupyter-widgets/controls",
      "_model_module_version": "1.5.0",
      "_model_name": "DescriptionStyleModel",
      "_view_count": null,
      "_view_module": "@jupyter-widgets/base",
      "_view_module_version": "1.2.0",
      "_view_name": "StyleView",
      "description_width": ""
     }
    },
    "db00069ddeab4a0e890029ee8583e036": {
     "model_module": "@jupyter-widgets/controls",
     "model_module_version": "1.5.0",
     "model_name": "HTMLModel",
     "state": {
      "_dom_classes": [],
      "_model_module": "@jupyter-widgets/controls",
      "_model_module_version": "1.5.0",
      "_model_name": "HTMLModel",
      "_view_count": null,
      "_view_module": "@jupyter-widgets/controls",
      "_view_module_version": "1.5.0",
      "_view_name": "HTMLView",
      "description": "",
      "description_tooltip": null,
      "layout": "IPY_MODEL_21c5b958373f43f2ae5ea9e88bb5ad3e",
      "placeholder": "​",
      "style": "IPY_MODEL_4d44d0ae43cd46409789583a2dbe2b29",
      "value": "Fetching 2 files:   0%"
     }
    },
    "de2e6a16697a431dbcd79e502fb6fcba": {
     "model_module": "@jupyter-widgets/controls",
     "model_module_version": "1.5.0",
     "model_name": "HBoxModel",
     "state": {
      "_dom_classes": [],
      "_model_module": "@jupyter-widgets/controls",
      "_model_module_version": "1.5.0",
      "_model_name": "HBoxModel",
      "_view_count": null,
      "_view_module": "@jupyter-widgets/controls",
      "_view_module_version": "1.5.0",
      "_view_name": "HBoxView",
      "box_style": "",
      "children": [
       "IPY_MODEL_de721a7c553d49bdaec5a0b6caf01b02",
       "IPY_MODEL_ba140496fd954269b86131066e83e9a0",
       "IPY_MODEL_b2db77272b534b69a0610fc5f622fa7b"
      ],
      "layout": "IPY_MODEL_58f61b7dcee54514beb3502842ea7b3e"
     }
    },
    "de6c66f14b7d45e5a7abe4229a1762b3": {
     "model_module": "@jupyter-widgets/base",
     "model_module_version": "1.2.0",
     "model_name": "LayoutModel",
     "state": {
      "_model_module": "@jupyter-widgets/base",
      "_model_module_version": "1.2.0",
      "_model_name": "LayoutModel",
      "_view_count": null,
      "_view_module": "@jupyter-widgets/base",
      "_view_module_version": "1.2.0",
      "_view_name": "LayoutView",
      "align_content": null,
      "align_items": null,
      "align_self": null,
      "border": null,
      "bottom": null,
      "display": null,
      "flex": null,
      "flex_flow": null,
      "grid_area": null,
      "grid_auto_columns": null,
      "grid_auto_flow": null,
      "grid_auto_rows": null,
      "grid_column": null,
      "grid_gap": null,
      "grid_row": null,
      "grid_template_areas": null,
      "grid_template_columns": null,
      "grid_template_rows": null,
      "height": null,
      "justify_content": null,
      "justify_items": null,
      "left": null,
      "margin": null,
      "max_height": null,
      "max_width": null,
      "min_height": null,
      "min_width": null,
      "object_fit": null,
      "object_position": null,
      "order": null,
      "overflow": null,
      "overflow_x": null,
      "overflow_y": null,
      "padding": null,
      "right": null,
      "top": null,
      "visibility": null,
      "width": "20px"
     }
    },
    "de721a7c553d49bdaec5a0b6caf01b02": {
     "model_module": "@jupyter-widgets/controls",
     "model_module_version": "1.5.0",
     "model_name": "HTMLModel",
     "state": {
      "_dom_classes": [],
      "_model_module": "@jupyter-widgets/controls",
      "_model_module_version": "1.5.0",
      "_model_name": "HTMLModel",
      "_view_count": null,
      "_view_module": "@jupyter-widgets/controls",
      "_view_module_version": "1.5.0",
      "_view_name": "HTMLView",
      "description": "",
      "description_tooltip": null,
      "layout": "IPY_MODEL_56b2e1d667ac4d32809b6a6aa2bc4ca6",
      "placeholder": "​",
      "style": "IPY_MODEL_4352758dcd314c8ab213dfb67a9ec084",
      "value": "config.json: 100%"
     }
    },
    "e570b718bbe1404b8bb89bc606726ccc": {
     "model_module": "@jupyter-widgets/base",
     "model_module_version": "1.2.0",
     "model_name": "LayoutModel",
     "state": {
      "_model_module": "@jupyter-widgets/base",
      "_model_module_version": "1.2.0",
      "_model_name": "LayoutModel",
      "_view_count": null,
      "_view_module": "@jupyter-widgets/base",
      "_view_module_version": "1.2.0",
      "_view_name": "LayoutView",
      "align_content": null,
      "align_items": null,
      "align_self": null,
      "border": null,
      "bottom": null,
      "display": null,
      "flex": null,
      "flex_flow": null,
      "grid_area": null,
      "grid_auto_columns": null,
      "grid_auto_flow": null,
      "grid_auto_rows": null,
      "grid_column": null,
      "grid_gap": null,
      "grid_row": null,
      "grid_template_areas": null,
      "grid_template_columns": null,
      "grid_template_rows": null,
      "height": null,
      "justify_content": null,
      "justify_items": null,
      "left": null,
      "margin": null,
      "max_height": null,
      "max_width": null,
      "min_height": null,
      "min_width": null,
      "object_fit": null,
      "object_position": null,
      "order": null,
      "overflow": null,
      "overflow_x": null,
      "overflow_y": null,
      "padding": null,
      "right": null,
      "top": null,
      "visibility": null,
      "width": null
     }
    },
    "e749b562e9934c4e9ce7f13600fa93c2": {
     "model_module": "@jupyter-widgets/controls",
     "model_module_version": "1.5.0",
     "model_name": "DescriptionStyleModel",
     "state": {
      "_model_module": "@jupyter-widgets/controls",
      "_model_module_version": "1.5.0",
      "_model_name": "DescriptionStyleModel",
      "_view_count": null,
      "_view_module": "@jupyter-widgets/base",
      "_view_module_version": "1.2.0",
      "_view_name": "StyleView",
      "description_width": ""
     }
    },
    "e7ac1662441c41229c647abbc26f4716": {
     "model_module": "@jupyter-widgets/controls",
     "model_module_version": "1.5.0",
     "model_name": "HTMLModel",
     "state": {
      "_dom_classes": [],
      "_model_module": "@jupyter-widgets/controls",
      "_model_module_version": "1.5.0",
      "_model_name": "HTMLModel",
      "_view_count": null,
      "_view_module": "@jupyter-widgets/controls",
      "_view_module_version": "1.5.0",
      "_view_name": "HTMLView",
      "description": "",
      "description_tooltip": null,
      "layout": "IPY_MODEL_c71de519931943989e3b6469ffcab196",
      "placeholder": "​",
      "style": "IPY_MODEL_9125bd56962749b297ca1b3e7a5e6d30",
      "value": "model-00002-of-00002.safetensors:  27%"
     }
    },
    "e948ff3ca3b249b79cc25062b2ba3936": {
     "model_module": "@jupyter-widgets/base",
     "model_module_version": "1.2.0",
     "model_name": "LayoutModel",
     "state": {
      "_model_module": "@jupyter-widgets/base",
      "_model_module_version": "1.2.0",
      "_model_name": "LayoutModel",
      "_view_count": null,
      "_view_module": "@jupyter-widgets/base",
      "_view_module_version": "1.2.0",
      "_view_name": "LayoutView",
      "align_content": null,
      "align_items": null,
      "align_self": null,
      "border": null,
      "bottom": null,
      "display": null,
      "flex": null,
      "flex_flow": null,
      "grid_area": null,
      "grid_auto_columns": null,
      "grid_auto_flow": null,
      "grid_auto_rows": null,
      "grid_column": null,
      "grid_gap": null,
      "grid_row": null,
      "grid_template_areas": null,
      "grid_template_columns": null,
      "grid_template_rows": null,
      "height": null,
      "justify_content": null,
      "justify_items": null,
      "left": null,
      "margin": null,
      "max_height": null,
      "max_width": null,
      "min_height": null,
      "min_width": null,
      "object_fit": null,
      "object_position": null,
      "order": null,
      "overflow": null,
      "overflow_x": null,
      "overflow_y": null,
      "padding": null,
      "right": null,
      "top": null,
      "visibility": null,
      "width": null
     }
    },
    "eb31f477b0754df095b298ff524cf164": {
     "model_module": "@jupyter-widgets/controls",
     "model_module_version": "1.5.0",
     "model_name": "HBoxModel",
     "state": {
      "_dom_classes": [],
      "_model_module": "@jupyter-widgets/controls",
      "_model_module_version": "1.5.0",
      "_model_name": "HBoxModel",
      "_view_count": null,
      "_view_module": "@jupyter-widgets/controls",
      "_view_module_version": "1.5.0",
      "_view_name": "HBoxView",
      "box_style": "",
      "children": [
       "IPY_MODEL_b376d7d4da3a4d71b480cf373a332b18",
       "IPY_MODEL_76c02d2c38d842c1915a0916a956ea7e",
       "IPY_MODEL_ff108ce759884f71915175e5b5747d34"
      ],
      "layout": "IPY_MODEL_ca20d020ecfd495da7bcb174a5711635"
     }
    },
    "f15d335bd87f4bc6a57d9f85440cc675": {
     "model_module": "@jupyter-widgets/base",
     "model_module_version": "1.2.0",
     "model_name": "LayoutModel",
     "state": {
      "_model_module": "@jupyter-widgets/base",
      "_model_module_version": "1.2.0",
      "_model_name": "LayoutModel",
      "_view_count": null,
      "_view_module": "@jupyter-widgets/base",
      "_view_module_version": "1.2.0",
      "_view_name": "LayoutView",
      "align_content": null,
      "align_items": null,
      "align_self": null,
      "border": null,
      "bottom": null,
      "display": null,
      "flex": null,
      "flex_flow": null,
      "grid_area": null,
      "grid_auto_columns": null,
      "grid_auto_flow": null,
      "grid_auto_rows": null,
      "grid_column": null,
      "grid_gap": null,
      "grid_row": null,
      "grid_template_areas": null,
      "grid_template_columns": null,
      "grid_template_rows": null,
      "height": null,
      "justify_content": null,
      "justify_items": null,
      "left": null,
      "margin": null,
      "max_height": null,
      "max_width": null,
      "min_height": null,
      "min_width": null,
      "object_fit": null,
      "object_position": null,
      "order": null,
      "overflow": null,
      "overflow_x": null,
      "overflow_y": null,
      "padding": null,
      "right": null,
      "top": null,
      "visibility": null,
      "width": null
     }
    },
    "f839a64e2fdb47eda34799119e0ed871": {
     "model_module": "@jupyter-widgets/controls",
     "model_module_version": "1.5.0",
     "model_name": "ProgressStyleModel",
     "state": {
      "_model_module": "@jupyter-widgets/controls",
      "_model_module_version": "1.5.0",
      "_model_name": "ProgressStyleModel",
      "_view_count": null,
      "_view_module": "@jupyter-widgets/base",
      "_view_module_version": "1.2.0",
      "_view_name": "StyleView",
      "bar_color": null,
      "description_width": ""
     }
    },
    "f897a213b7954bd7a4270dfedd2db719": {
     "model_module": "@jupyter-widgets/controls",
     "model_module_version": "1.5.0",
     "model_name": "HTMLModel",
     "state": {
      "_dom_classes": [],
      "_model_module": "@jupyter-widgets/controls",
      "_model_module_version": "1.5.0",
      "_model_name": "HTMLModel",
      "_view_count": null,
      "_view_module": "@jupyter-widgets/controls",
      "_view_module_version": "1.5.0",
      "_view_name": "HTMLView",
      "description": "",
      "description_tooltip": null,
      "layout": "IPY_MODEL_a7fb3e84cc4244cd9ccbae396c1a7ca7",
      "placeholder": "​",
      "style": "IPY_MODEL_a0c2bc9582aa4bffbc019714d5fbbcde",
      "value": "special_tokens_map.json: 100%"
     }
    },
    "fd4d645dc4304fbd95b4081288e77a03": {
     "model_module": "@jupyter-widgets/controls",
     "model_module_version": "1.5.0",
     "model_name": "DescriptionStyleModel",
     "state": {
      "_model_module": "@jupyter-widgets/controls",
      "_model_module_version": "1.5.0",
      "_model_name": "DescriptionStyleModel",
      "_view_count": null,
      "_view_module": "@jupyter-widgets/base",
      "_view_module_version": "1.2.0",
      "_view_name": "StyleView",
      "description_width": ""
     }
    },
    "fd5fe08236db4f91b79a8fd7608c7822": {
     "model_module": "@jupyter-widgets/controls",
     "model_module_version": "1.5.0",
     "model_name": "HBoxModel",
     "state": {
      "_dom_classes": [],
      "_model_module": "@jupyter-widgets/controls",
      "_model_module_version": "1.5.0",
      "_model_name": "HBoxModel",
      "_view_count": null,
      "_view_module": "@jupyter-widgets/controls",
      "_view_module_version": "1.5.0",
      "_view_name": "HBoxView",
      "box_style": "",
      "children": [
       "IPY_MODEL_a2bc22e6fa0c43a582c0b1beca43ea2f",
       "IPY_MODEL_78d1c2566a0b496abe52f55b3ec2fbc1",
       "IPY_MODEL_b0bef97992ef484a80114e425963ee2e"
      ],
      "layout": "IPY_MODEL_2f0435e46b3347d59e59efc34e8f9ab6"
     }
    },
    "ff108ce759884f71915175e5b5747d34": {
     "model_module": "@jupyter-widgets/controls",
     "model_module_version": "1.5.0",
     "model_name": "HTMLModel",
     "state": {
      "_dom_classes": [],
      "_model_module": "@jupyter-widgets/controls",
      "_model_module_version": "1.5.0",
      "_model_name": "HTMLModel",
      "_view_count": null,
      "_view_module": "@jupyter-widgets/controls",
      "_view_module_version": "1.5.0",
      "_view_name": "HTMLView",
      "description": "",
      "description_tooltip": null,
      "layout": "IPY_MODEL_93c3713acdef43ed8ba8a464932dc056",
      "placeholder": "​",
      "style": "IPY_MODEL_a108f45d090b49038f4bc92bc7cb6164",
      "value": " 54.7k/? [00:00&lt;00:00, 2.24MB/s]"
     }
    }
   }
  }
 },
 "nbformat": 4,
 "nbformat_minor": 0
}
